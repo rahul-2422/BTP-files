{
 "cells": [
  {
   "cell_type": "code",
   "execution_count": 22,
   "metadata": {},
   "outputs": [],
   "source": [
    "import numpy as np\n",
    "import pandas as pd\n",
    "import matplotlib.pyplot as plt\n",
    "import seaborn as sns\n",
    "import plotly.express as px\n",
    "import matplotlib.pyplot as plt\n",
    "from sklearn.model_selection import train_test_split\n",
    "from sklearn.model_selection import StratifiedKFold\n",
    "from sklearn.model_selection import cross_val_score\n",
    "from sklearn. metrics import confusion_matrix, ConfusionMatrixDisplay , precision_score, recall_score, f1_score, r2_score, roc_curve, roc_auc_score, classification_report"
   ]
  },
  {
   "cell_type": "code",
   "execution_count": null,
   "metadata": {},
   "outputs": [],
   "source": [
    "# feature_label_matrix = pd.read_csv('./labeled_feature_matrix.csv')\n",
    "# display(feature_label_matrix.shape)"
   ]
  },
  {
   "cell_type": "code",
   "execution_count": null,
   "metadata": {},
   "outputs": [],
   "source": [
    "# feature_matrix = np.loadtxt('./labeled_feature_matrix.csv', delimiter=',')\n",
    "# display(feature_matrix.shape)"
   ]
  },
  {
   "cell_type": "markdown",
   "metadata": {},
   "source": [
    "### Loading Data"
   ]
  },
  {
   "cell_type": "code",
   "execution_count": 37,
   "metadata": {},
   "outputs": [],
   "source": [
    "# Run this cell when executing Preprocessing.v1\n",
    "feature_matrix = np.load(\"../outputs-v1/labeled_feature_vector.npy\")"
   ]
  },
  {
   "cell_type": "code",
   "execution_count": 46,
   "metadata": {},
   "outputs": [],
   "source": [
    "# Run this cell when executing preprocessing.v2 with filtering\n",
    "feature_matrix = np.load(\"../codes-v2/labeled_feature_v2.npy\")"
   ]
  },
  {
   "cell_type": "code",
   "execution_count": 125,
   "metadata": {},
   "outputs": [],
   "source": [
    "# Run this cell when doing feature extraction specific to features\n",
    "feature_matrix = np.load(\"../codes-v2/labeled_feature_rest-2-all.npy\")"
   ]
  },
  {
   "cell_type": "code",
   "execution_count": 23,
   "metadata": {},
   "outputs": [],
   "source": [
    "# Run this cell when doing feature extraction specific to features for all subjects\n",
    "feature_matrix = np.load(\"../all-sub-features/rest-2-all.npy\")"
   ]
  },
  {
   "cell_type": "code",
   "execution_count": 32,
   "metadata": {},
   "outputs": [],
   "source": [
    "# Run this cell when executing preprocessing.v2 with four class\n",
    "feature_matrix = np.load(\"../codes-v2/labeled_feature_v3.npy\")"
   ]
  },
  {
   "cell_type": "code",
   "execution_count": 6,
   "metadata": {},
   "outputs": [],
   "source": [
    "# Run this cell when checking metrics for single subject\n",
    "subjectid = '01'\n",
    "\n",
    "feature_matrix = np.load(f\"../codes-v2/all-feature-sub-{subjectid}.npy\")"
   ]
  },
  {
   "cell_type": "code",
   "execution_count": 34,
   "metadata": {},
   "outputs": [],
   "source": [
    "# Run this cell when checking metrics for test-subjects\n",
    "subject_number = 'onefive'\n",
    "\n",
    "test_features = np.load(f\"../test-subjects/wavelet-sub-{subject_number}.npy\")"
   ]
  },
  {
   "cell_type": "code",
   "execution_count": 3,
   "metadata": {},
   "outputs": [
    {
     "data": {
      "text/plain": [
       "(847, 130)"
      ]
     },
     "metadata": {},
     "output_type": "display_data"
    }
   ],
   "source": [
    "# Run this cell when checking metrics for test-subjects\n",
    "xTest = test_features[:, :-1]\n",
    "display(xTest.shape)\n",
    "for i in range(xTest.shape[0]):\n",
    "        for j in range(xTest.shape[1]):\n",
    "            if np.isnan(xTest[i,j]):\n",
    "                  display([i,j])"
   ]
  },
  {
   "cell_type": "code",
   "execution_count": 4,
   "metadata": {},
   "outputs": [
    {
     "data": {
      "text/plain": [
       "(847,)"
      ]
     },
     "metadata": {},
     "output_type": "display_data"
    }
   ],
   "source": [
    "# Run this cell when checking metrics for test-subjects\n",
    "yTest = test_features[:, -1]\n",
    "display(yTest.shape)"
   ]
  },
  {
   "cell_type": "code",
   "execution_count": 24,
   "metadata": {},
   "outputs": [
    {
     "data": {
      "text/plain": [
       "(24354, 131)"
      ]
     },
     "metadata": {},
     "output_type": "display_data"
    }
   ],
   "source": [
    "display(feature_matrix.shape)"
   ]
  },
  {
   "cell_type": "code",
   "execution_count": 25,
   "metadata": {},
   "outputs": [
    {
     "data": {
      "text/plain": [
       "(24354,)"
      ]
     },
     "metadata": {},
     "output_type": "display_data"
    }
   ],
   "source": [
    "labels = feature_matrix[:, -1]\n",
    "display(labels.shape)"
   ]
  },
  {
   "cell_type": "code",
   "execution_count": 26,
   "metadata": {},
   "outputs": [
    {
     "name": "stdout",
     "output_type": "stream",
     "text": [
      "[0. 1.]\n"
     ]
    }
   ],
   "source": [
    "print((np.unique(labels)))"
   ]
  },
  {
   "cell_type": "code",
   "execution_count": 27,
   "metadata": {},
   "outputs": [
    {
     "data": {
      "text/plain": [
       "(24354, 130)"
      ]
     },
     "metadata": {},
     "output_type": "display_data"
    }
   ],
   "source": [
    "data = feature_matrix[:, :-1]\n",
    "display(data.shape)\n",
    "for i in range(data.shape[0]):\n",
    "        for j in range(data.shape[1]):\n",
    "            if np.isnan(data[i,j]):\n",
    "                  display([i,j])"
   ]
  },
  {
   "cell_type": "code",
   "execution_count": 28,
   "metadata": {},
   "outputs": [],
   "source": [
    "fold = StratifiedKFold(n_splits=10)"
   ]
  },
  {
   "cell_type": "code",
   "execution_count": 29,
   "metadata": {},
   "outputs": [],
   "source": [
    "for train_index, test_index in fold.split(data, labels):\n",
    "    x_train, x_test, y_train, y_test = [data[i] for i in train_index], [data[i] for i in test_index], [labels[i] for i in train_index], [labels[i] for i in test_index]\n",
    "\n",
    "\n",
    "# x_train, x_test, y_train, y_test = train_test_split(data,labels,test_size=0.3)"
   ]
  },
  {
   "cell_type": "code",
   "execution_count": 30,
   "metadata": {},
   "outputs": [
    {
     "name": "stdout",
     "output_type": "stream",
     "text": [
      "2\n"
     ]
    }
   ],
   "source": [
    "print(len(np.unique(y_test)))"
   ]
  },
  {
   "cell_type": "markdown",
   "metadata": {},
   "source": [
    "### Plot Confusion Matrix Function"
   ]
  },
  {
   "cell_type": "code",
   "execution_count": 31,
   "metadata": {},
   "outputs": [],
   "source": [
    "def plot_cnf(cnf_matrix):\n",
    "  fig = px.imshow(cnf_matrix, \n",
    "                 color_continuous_scale='Blues')\n",
    "\n",
    "  fig.update_layout(\n",
    "      title=\"Confusion Matrix with Rest-case-labeled: 0, One-back-labeled: 1\",\n",
    "      xaxis_title=\"Actual Labels\",\n",
    "      yaxis_title=\"Predicted Labels\",\n",
    "      width= 700,\n",
    "      height=700,\n",
    "  )\n",
    "\n",
    "  fig.update_layout(\n",
    "      font=dict(\n",
    "          size=12\n",
    "      ),\n",
    "      xaxis = dict(\n",
    "          tick0=0,\n",
    "          dtick=1\n",
    "      ),\n",
    "      yaxis = dict(\n",
    "          tick0=0,\n",
    "          dtick=1\n",
    "      )\n",
    "  )\n",
    "\n",
    "  for i in range(len(cnf_matrix)):\n",
    "      for j in range(len(cnf_matrix)):\n",
    "          \n",
    "          if (cnf_matrix[i,j] >= 220):\n",
    "              color = 'white'\n",
    "          else: \n",
    "              color = 'black'\n",
    "\n",
    "          fig.add_annotation(text=str(cnf_matrix[i,j]), \n",
    "                            x=j, \n",
    "                            y=i, \n",
    "                            showarrow=False,\n",
    "                            font=dict(\n",
    "                                color=color,\n",
    "                                size=24,\n",
    "                            ) \n",
    "                            )\n",
    "\n",
    "  fig.show()"
   ]
  },
  {
   "cell_type": "markdown",
   "metadata": {},
   "source": [
    "### Plot ROC Curve Function"
   ]
  },
  {
   "cell_type": "code",
   "execution_count": 32,
   "metadata": {},
   "outputs": [],
   "source": [
    "def plot_roc(tpr, fpr):\n",
    "  \n",
    "  fig = px.line(x=fpr, \n",
    "                y=tpr,\n",
    "                )\n",
    "    \n",
    "  fig.add_scatter(x=[0,1], \n",
    "                  y=[0,1],\n",
    "                  line=dict(color='navy', dash='dash'),\n",
    "                  name=\"Guessing\"\n",
    "                  )\n",
    "\n",
    "  \n",
    "  fig.update_layout(\n",
    "      title='ROC Curve',\n",
    "      xaxis_title='False Positive Rate',\n",
    "      yaxis_title='True Positive Rate',\n",
    "      width=700,\n",
    "      height=500,\n",
    "  )\n",
    "\n",
    "  fig.show()"
   ]
  },
  {
   "cell_type": "markdown",
   "metadata": {},
   "source": [
    "### Plot multiple ROC plots"
   ]
  },
  {
   "cell_type": "code",
   "execution_count": 12,
   "metadata": {},
   "outputs": [],
   "source": [
    "# Function to plot multiple ROC curevs on single plot\n",
    "\n",
    "def multi_roc_plot(models, x_train= x_train, y_train= y_train, x_test=x_test, y_test= y_test):\n",
    "  fpr_list = [] \n",
    "  tpr_list = []\n",
    "  \n",
    "  legend_list = []\n",
    "  \n",
    "  for model in models:\n",
    "    # Training the models on x_train and y_train\n",
    "    model.fit(x_train, y_train)\n",
    "    \n",
    "    y_pred_prob = model.predict_proba(X=x_test)         # y_pred_prob.shape = [len(x-test), 2], (prob(label0), prob(label1))\n",
    "\n",
    "    # Getting the FalsePositiveRate and TruePositveRates from plotting the ROC curve\n",
    "    fpr, tpr,_ = roc_curve(\n",
    "                          y_test, \n",
    "                          y_pred_prob[:,1],\n",
    "                          )\n",
    "    \n",
    "    auc = roc_auc_score(y_test, y_pred_prob[:,1])\n",
    "\n",
    "    tpr_list.append(tpr)\n",
    "    fpr_list.append(fpr)\n",
    "\n",
    "    index = str(model).find('(')\n",
    "    legend_list.append(str(model)[:index])\n",
    "\n",
    "  colors = px.colors.qualitative.Set1\n",
    "\n",
    "  fig = px.line()\n",
    "\n",
    "  for i, (tpr, fpr) in enumerate(zip(tpr_list, fpr_list)):\n",
    "    fig.add_scatter(\n",
    "                    x=fpr,\n",
    "                    y=tpr,\n",
    "                    mode='lines',\n",
    "                    line=dict(color= colors[i]),\n",
    "                    name= legend_list[i]\n",
    "                    )\n",
    "    \n",
    "  fig.add_scatter(x=[0,1], \n",
    "                  y=[0,1],\n",
    "                  line=dict(color='navy', dash='dash'),\n",
    "                  name=\"Guessing\"\n",
    "                  )\n",
    "  \n",
    "  fig.update_layout(\n",
    "      title='ROC Curve',\n",
    "      # xaxis_title='False Positive Rate',\n",
    "      # yaxis_title='True Positive Rate',\n",
    "      xaxis_title=dict(text='<b>False Positive Rate</b>', font=dict(size=14)),\n",
    "      yaxis_title=dict(text='<b>True Positive Rate</b>', font=dict(size=14)),\n",
    "      xaxis_tickfont=dict(weight='bold'),\n",
    "      yaxis_tickfont=dict(weight='bold'),\n",
    "      width=700,\n",
    "      height=500,\n",
    "      legend=dict(\n",
    "            x=1,\n",
    "            y=0,\n",
    "            traceorder=\"reversed\",\n",
    "            bgcolor=\"rgba(255, 255, 255, 0.5)\",\n",
    "            bordercolor=\"Black\",\n",
    "            borderwidth=2\n",
    "        ),\n",
    "  )\n",
    "\n",
    "  fig.show()"
   ]
  },
  {
   "cell_type": "code",
   "execution_count": 38,
   "metadata": {},
   "outputs": [],
   "source": [
    "import matplotlib.pyplot as plt\n",
    "\n",
    "def multi_roc_plot_mpl(models, x_train= x_train, y_train= y_train, x_test=x_test, y_test= y_test):\n",
    "\n",
    "  tprs = []\n",
    "  fprs = []\n",
    "  aucs = []\n",
    "\n",
    "  fig, ax = plt.subplots()\n",
    "\n",
    "  for i, model in enumerate(models):\n",
    "    # Model predictions and ROC curve\n",
    "    model.fit(x_train, y_train)\n",
    "    probs = model.predict_proba(x_test)[:, 1]\n",
    "\n",
    "    fpr, tpr, _ = roc_curve(y_test, probs) \n",
    "    tprs.append(tpr)\n",
    "    fprs.append(fpr)\n",
    "    \n",
    "    roc_auc = roc_auc_score(y_test, probs)\n",
    "    aucs.append(roc_auc)\n",
    "    \n",
    "    ax.plot(fpr, tpr, lw=2, color=f'C{i}')\n",
    "\n",
    "  # Remove mean TPR plot\n",
    "\n",
    "  # Add diagonal reference line\n",
    "  ax.plot([0, 1], [0, 1], linestyle='--', lw=2, color='black')\n",
    "\n",
    "  # Rest of code to set labels, legend, etc\n",
    "\n",
    "  ax.set_xlabel('False Positive Rate')\n",
    "  ax.set_ylabel('True Positive Rate')\n",
    "  ax.set_title('ROC Curve')\n",
    "  \n",
    "  ax.legend(labels=[f'{str(model)}-AUC: {auc:.2f}' for auc,model in zip(aucs, models)], \n",
    "            loc='lower right',\n",
    "            fontsize=10\n",
    "          )\n",
    "            \n",
    "  fig.tight_layout()\n",
    "  plt.show()"
   ]
  },
  {
   "cell_type": "markdown",
   "metadata": {},
   "source": [
    "### Metrics Function"
   ]
  },
  {
   "cell_type": "code",
   "execution_count": 32,
   "metadata": {},
   "outputs": [],
   "source": [
    "# Performance metrics calculation function\n",
    "\n",
    "def metrics(model, labels, xTest=None, yTest=None):\n",
    "\n",
    "  if np.all(xTest == None):\n",
    "    # Using average of cross val score for accuracy\n",
    "    score = cross_val_score(model, \n",
    "                            data, \n",
    "                            labels,\n",
    "                            cv=10,\n",
    "                          )\n",
    "    \n",
    "    cross_val_acc = np.average(score)\n",
    "    cross_val_std = np.std(score)\n",
    "\n",
    "  # # Training the model on x_train and y_train\n",
    "  # model.fit(x_train, y_train)\n",
    "\n",
    "  # if np.all(xTest == None):\n",
    "  #   # Getting the class-label predictions and class-label prediction probabilities from the trained model\n",
    "  #   model_predictions = model.predict(X=x_test)         # model_predictions.shape = [len(x-test)], (label(ith epoch))\n",
    "  #   y_pred_prob = model.predict_proba(X=x_test)         # y_pred_prob.shape = [len(x-test), 2], (prob(label0), prob(label1))\n",
    "  # else:\n",
    "  #   # Getting the class-label predictions and class-label prediction probabilities for the test data\n",
    "  #   model_predictions = model.predict(X=xTest)         # model_predictions.shape = [len(x-test)], (label(ith epoch))\n",
    "  #   y_pred_prob = model.predict_proba(X=xTest)         # y_pred_prob.shape = [len(x-test), 2], (prob(label0), prob(label1))\n",
    "\n",
    "  # if np.all(xTest == None):\n",
    "  #   # Building the Classification Report using the predictions as a dataframe without the accuracy column\n",
    "  #   classif_report = pd.DataFrame(classification_report(y_true=y_test, \n",
    "  #                                                       y_pred=model_predictions, \n",
    "  #                                                       output_dict=True,\n",
    "  #                                                       zero_division=0,\n",
    "  #                                                       )\n",
    "  #                                 ).drop(labels=\"accuracy\", axis=1).T.round(2)\n",
    "  # else:\n",
    "  #   # Building the Classification Report using the predictions as a dataframe with the accuracy column\n",
    "  #   classif_report = pd.DataFrame(classification_report(y_true=yTest, \n",
    "  #                                                       y_pred=model_predictions, \n",
    "  #                                                       output_dict=True,\n",
    "  #                                                       zero_division=0,\n",
    "  #                                                       )\n",
    "  #                                 ).T.round(2)\n",
    "  # if np.all(xTest == None):  \n",
    "  #   # Building the Confusion Matrix using the predicted class labels\n",
    "  #   cnf_matrix = confusion_matrix(y_true=y_test, y_pred=model_predictions)\n",
    "  # else:\n",
    "  #   # Building the Confusion Matrix using the predicted class labels for test-subjects\n",
    "  #   cnf_matrix = confusion_matrix(y_true=yTest, y_pred=model_predictions)\n",
    "  \n",
    "  # if len(np.unique(labels)) == 2:\n",
    "  #   if np.all(xTest == None):\n",
    "  #     # Getting the FalsePositiveRate and TruePositveRates from plotting the ROC curve\n",
    "  #     fpr, tpr, thresholds = roc_curve(\n",
    "  #                                     y_test, \n",
    "  #                                     y_pred_prob[:,1],\n",
    "  #                                     #  pos_label=3\n",
    "  #                                     )\n",
    "  #   else:\n",
    "  #     # Getting the FalsePositiveRate and TruePositveRates from plotting the ROC curve for test-subjects\n",
    "  #     fpr, tpr, thresholds = roc_curve(\n",
    "  #                                     yTest, \n",
    "  #                                     y_pred_prob[:,1],\n",
    "  #                                     #  pos_label=3\n",
    "  #                                     )\n",
    "\n",
    "  # if len(np.unique(labels)) == 2:\n",
    "  #   if np.all(xTest == None):\n",
    "  #     # Calculating the Area under the ROC curve ie, AUC using class label prediction probabilities\n",
    "  #     auc = roc_auc_score(y_test, y_pred_prob[:,1])\n",
    "  #   else:\n",
    "  #     # Calculating the Area under the ROC curve ie, AUC using class label prediction probabilities for test-subjects\n",
    "  #     auc = roc_auc_score(yTest, y_pred_prob[:,1])\n",
    "\n",
    "  # else:\n",
    "  #   micro_roc_auc_ovr = roc_auc_score(\n",
    "  #                                     y_test,\n",
    "  #                                     y_pred_prob,\n",
    "  #                                     multi_class=\"ovr\",\n",
    "  #                                     average=\"micro\",\n",
    "  #                                     )\n",
    "    \n",
    "  #   macro_roc_auc_ovr = roc_auc_score(\n",
    "  #                                     y_test,\n",
    "  #                                     y_pred_prob,\n",
    "  #                                     multi_class=\"ovr\",\n",
    "  #                                     average=\"macro\",\n",
    "  #                                     )\n",
    "    \n",
    "  #   macro_roc_auc_ovo = roc_auc_score(\n",
    "  #                                     y_test,\n",
    "  #                                     y_pred_prob,\n",
    "  #                                     multi_class=\"ovo\",\n",
    "  #                                     average=\"macro\",\n",
    "  #                                     )\n",
    "    \n",
    "  if np.all(xTest == None):  \n",
    "    # print(f\"Cross-val-mean-Accuracy: {100*cross_val_acc:.2f}\\n Cross-val-accuarcy-std: {cross_val_std}\")\n",
    "    print(f\"Cross-val-Accuracy: {100*cross_val_acc:.2f}+-{cross_val_std}\")\n",
    "\n",
    "  # display(classif_report)\n",
    "\n",
    "  # plot_cnf(cnf_matrix=cnf_matrix)\n",
    "\n",
    "  # if len(np.unique(labels)) == 2:\n",
    "  #   plot_roc(tpr=tpr,\n",
    "  #           fpr=fpr,\n",
    "  #           )\n",
    "  \n",
    "  # if len(np.unique(labels)) == 2:\n",
    "  #   print(f\"Area Under the ROC Curve (AUC): {100*auc:.2f}\")\n",
    "  \n",
    "  # else:\n",
    "  #   print(f\"\\nMicro-averaged One-vs-Rest ROC AUC score:{micro_roc_auc_ovr:.2f}\")\n",
    "  #   print(f\"\\nMacro-averaged One-vs-Rest ROC AUC score:{macro_roc_auc_ovr:.2f}\")\n",
    "  #   print(f\"\\nMacro-averaged One-vs-One ROC AUC score:{macro_roc_auc_ovo:.2f}\")"
   ]
  },
  {
   "cell_type": "markdown",
   "metadata": {},
   "source": [
    "### Gaussian naive bayes"
   ]
  },
  {
   "cell_type": "code",
   "execution_count": 15,
   "metadata": {},
   "outputs": [],
   "source": [
    "from sklearn.naive_bayes import GaussianNB\n",
    "gnb = GaussianNB()"
   ]
  },
  {
   "cell_type": "code",
   "execution_count": 16,
   "metadata": {},
   "outputs": [
    {
     "name": "stdout",
     "output_type": "stream",
     "text": [
      "Cross-val-mean-Accuracy: 55.92\n",
      " Cross-val-accuarcy-std: 0.03551423964768435\n",
      "Cross-val-Accuracy: 55.92 +- 0.03551423964768435\n"
     ]
    }
   ],
   "source": [
    "metrics(gnb, labels)"
   ]
  },
  {
   "cell_type": "markdown",
   "metadata": {},
   "source": [
    "### Linear Regression"
   ]
  },
  {
   "cell_type": "code",
   "execution_count": 17,
   "metadata": {},
   "outputs": [],
   "source": [
    "from sklearn.linear_model import LogisticRegression\n",
    "\n",
    "lr = LogisticRegression(solver='liblinear', multi_class='auto')"
   ]
  },
  {
   "cell_type": "code",
   "execution_count": 18,
   "metadata": {},
   "outputs": [
    {
     "name": "stdout",
     "output_type": "stream",
     "text": [
      "Cross-val-mean-Accuracy: 61.13\n",
      " Cross-val-accuarcy-std: 0.046349669419351446\n",
      "Cross-val-Accuracy: 61.13 +- 0.046349669419351446\n"
     ]
    }
   ],
   "source": [
    "metrics(lr, labels)"
   ]
  },
  {
   "cell_type": "markdown",
   "metadata": {},
   "source": [
    "### XGB classifier"
   ]
  },
  {
   "cell_type": "code",
   "execution_count": 34,
   "metadata": {},
   "outputs": [],
   "source": [
    "from xgboost import XGBClassifier\n",
    "xgb = XGBClassifier()"
   ]
  },
  {
   "cell_type": "code",
   "execution_count": 20,
   "metadata": {},
   "outputs": [
    {
     "name": "stdout",
     "output_type": "stream",
     "text": [
      "Cross-val-mean-Accuracy: 90.04\n",
      " Cross-val-accuarcy-std: 0.02240255979988562\n",
      "Cross-val-Accuracy: 90.04 +- 0.02240255979988562\n"
     ]
    }
   ],
   "source": [
    "metrics(\n",
    "        xgb, \n",
    "        labels, \n",
    "        # xTest=xTest, \n",
    "        # yTest=yTest        \n",
    "        )"
   ]
  },
  {
   "cell_type": "markdown",
   "metadata": {},
   "source": [
    "### XGB Model metric automator"
   ]
  },
  {
   "cell_type": "code",
   "execution_count": 35,
   "metadata": {},
   "outputs": [],
   "source": [
    "feature_list = [\"rest-2-all.npy\",\"rest-2-psd-hjorth.npy\",\"rest-2-psd-kurtosis.npy\",\"rest-2-psd.npy\",\"rest-2-wavelet-hjorth-kurtosis.npy\",\"rest-2-wavelet-hjorth.npy\",\"rest-2-wavelet-kurtosis.npy\",\"rest-2-wavelet-psd-hjorth.npy\",\"rest-2-wavelet-psd-kurtosis.npy\",\"rest-2-wavelet-psd.npy\",\"rest-2-wavelet.npy\"]"
   ]
  },
  {
   "cell_type": "code",
   "execution_count": 31,
   "metadata": {},
   "outputs": [
    {
     "name": "stdout",
     "output_type": "stream",
     "text": [
      "Shape of rest-2-all.npy:\n",
      "(24354, 130)\n",
      "Cross-val-mean-Accuracy: 90.04\n",
      " Cross-val-accuarcy-std: 0.02240255979988562\n",
      "Cross-val-Accuracy: 90.04+-0.02240255979988562\n",
      "Shape of rest-2-psd-hjorth.npy:\n",
      "(24354, 31)\n",
      "Cross-val-mean-Accuracy: 61.71\n",
      " Cross-val-accuarcy-std: 0.030591473609885417\n",
      "Cross-val-Accuracy: 61.71+-0.030591473609885417\n",
      "Shape of rest-2-psd-kurtosis.npy:\n",
      "(24354, 29)\n",
      "Cross-val-mean-Accuracy: 59.38\n",
      " Cross-val-accuarcy-std: 0.038326909564744736\n",
      "Cross-val-Accuracy: 59.38+-0.038326909564744736\n",
      "Shape of rest-2-psd.npy:\n",
      "(24354, 28)\n",
      "Cross-val-mean-Accuracy: 58.19\n",
      " Cross-val-accuarcy-std: 0.038042673325462066\n",
      "Cross-val-Accuracy: 58.19+-0.038042673325462066\n",
      "Shape of rest-2-wavelet-hjorth-kurtosis.npy:\n",
      "(24354, 102)\n",
      "Cross-val-mean-Accuracy: 90.68\n",
      " Cross-val-accuarcy-std: 0.025644296399857037\n",
      "Cross-val-Accuracy: 90.68+-0.025644296399857037\n",
      "Shape of rest-2-wavelet-hjorth.npy:\n",
      "(24354, 101)\n",
      "Cross-val-mean-Accuracy: 90.59\n",
      " Cross-val-accuarcy-std: 0.025007000491606358\n",
      "Cross-val-Accuracy: 90.59+-0.025007000491606358\n",
      "Shape of rest-2-wavelet-kurtosis.npy:\n",
      "(24354, 99)\n",
      "Cross-val-mean-Accuracy: 91.09\n",
      " Cross-val-accuarcy-std: 0.019425179241354833\n",
      "Cross-val-Accuracy: 91.09+-0.019425179241354833\n",
      "Shape of rest-2-wavelet-psd-hjorth.npy:\n",
      "(24354, 129)\n",
      "Cross-val-mean-Accuracy: 90.12\n",
      " Cross-val-accuarcy-std: 0.028517271002870676\n",
      "Cross-val-Accuracy: 90.12+-0.028517271002870676\n",
      "Shape of rest-2-wavelet-psd-kurtosis.npy:\n",
      "(24354, 127)\n",
      "Cross-val-mean-Accuracy: 90.06\n",
      " Cross-val-accuarcy-std: 0.026325941176138755\n",
      "Cross-val-Accuracy: 90.06+-0.026325941176138755\n",
      "Shape of rest-2-wavelet-psd.npy:\n",
      "(24354, 126)\n",
      "Cross-val-mean-Accuracy: 90.12\n",
      " Cross-val-accuarcy-std: 0.023700316456652076\n",
      "Cross-val-Accuracy: 90.12+-0.023700316456652076\n",
      "Shape of rest-2-wavelet.npy:\n",
      "(24354, 98)\n",
      "Cross-val-mean-Accuracy: 91.27\n",
      " Cross-val-accuarcy-std: 0.021615592876816844\n",
      "Cross-val-Accuracy: 91.27+-0.021615592876816844\n"
     ]
    }
   ],
   "source": [
    "for feature_file in feature_list:\n",
    "\n",
    "    feature_matrix = np.load(f\"../all-sub-features/{feature_file}\")\n",
    "\n",
    "    labels = feature_matrix[:, -1]\n",
    "    data = feature_matrix[:, :-1]\n",
    "\n",
    "    print(f\"Shape of {feature_file}:\")\n",
    "    print(data.shape)\n",
    "\n",
    "\n",
    "    for train_index, test_index in fold.split(data, labels):\n",
    "\n",
    "        x_train, x_test, y_train, y_test = data[train_index], data[test_index], labels[train_index], labels[test_index]\n",
    "\n",
    "    from xgboost import XGBClassifier\n",
    "    xgb = XGBClassifier()\n",
    "\n",
    "    metrics(xgb, labels)\n"
   ]
  },
  {
   "cell_type": "markdown",
   "metadata": {},
   "source": [
    "### ETC "
   ]
  },
  {
   "cell_type": "code",
   "execution_count": 35,
   "metadata": {},
   "outputs": [],
   "source": [
    "from sklearn.ensemble import ExtraTreesClassifier\n",
    "etc = ExtraTreesClassifier(n_estimators=50)"
   ]
  },
  {
   "cell_type": "code",
   "execution_count": 22,
   "metadata": {},
   "outputs": [
    {
     "name": "stdout",
     "output_type": "stream",
     "text": [
      "Cross-val-mean-Accuracy: 87.75\n",
      " Cross-val-accuarcy-std: 0.03414863363422874\n",
      "Cross-val-Accuracy: 87.75 +- 0.03414863363422874\n"
     ]
    }
   ],
   "source": [
    "metrics(etc, labels)"
   ]
  },
  {
   "cell_type": "markdown",
   "metadata": {},
   "source": [
    "### ETC model metrics automator"
   ]
  },
  {
   "cell_type": "code",
   "execution_count": 33,
   "metadata": {},
   "outputs": [
    {
     "name": "stdout",
     "output_type": "stream",
     "text": [
      "\n",
      "rest-2-all.npy:\n",
      "\n",
      "Cross-val-Accuracy: 87.60+-0.0328834781131172\n",
      "\n",
      "rest-2-psd-hjorth.npy:\n",
      "\n",
      "Cross-val-Accuracy: 56.94+-0.01797708549641622\n",
      "\n",
      "rest-2-psd-kurtosis.npy:\n",
      "\n",
      "Cross-val-Accuracy: 50.82+-0.013259902382050326\n",
      "\n",
      "rest-2-psd.npy:\n",
      "\n",
      "Cross-val-Accuracy: 50.32+-0.0001358822563801429\n",
      "\n",
      "rest-2-wavelet-hjorth-kurtosis.npy:\n",
      "\n",
      "Cross-val-Accuracy: 88.15+-0.03374514829956793\n",
      "\n",
      "rest-2-wavelet-hjorth.npy:\n",
      "\n",
      "Cross-val-Accuracy: 88.47+-0.03300938277715663\n",
      "\n",
      "rest-2-wavelet-kurtosis.npy:\n",
      "\n",
      "Cross-val-Accuracy: 88.08+-0.03388139292581112\n",
      "\n",
      "rest-2-wavelet-psd-hjorth.npy:\n",
      "\n",
      "Cross-val-Accuracy: 87.56+-0.035155164991458696\n",
      "\n",
      "rest-2-wavelet-psd-kurtosis.npy:\n",
      "\n",
      "Cross-val-Accuracy: 88.22+-0.03133520671922815\n",
      "\n",
      "rest-2-wavelet-psd.npy:\n",
      "\n",
      "Cross-val-Accuracy: 88.01+-0.031734995575267544\n",
      "\n",
      "rest-2-wavelet.npy:\n",
      "\n",
      "Cross-val-Accuracy: 88.56+-0.03171512346877833\n"
     ]
    }
   ],
   "source": [
    "for feature_file in feature_list:\n",
    "\n",
    "    feature_matrix = np.load(f\"../all-sub-features/{feature_file}\")\n",
    "\n",
    "    labels = feature_matrix[:, -1]\n",
    "    data = feature_matrix[:, :-1]\n",
    "\n",
    "    print(f\"\\n{feature_file}:\\n\")\n",
    "    # print(data.shape)\n",
    "\n",
    "\n",
    "    for train_index, test_index in fold.split(data, labels):\n",
    "\n",
    "        x_train, x_test, y_train, y_test = data[train_index], data[test_index], labels[train_index], labels[test_index]\n",
    "\n",
    "    from sklearn.ensemble import ExtraTreesClassifier\n",
    "    etc = ExtraTreesClassifier(n_estimators=50)\n",
    "\n",
    "    metrics(etc, labels)"
   ]
  },
  {
   "cell_type": "markdown",
   "metadata": {},
   "source": [
    "### RFC"
   ]
  },
  {
   "cell_type": "code",
   "execution_count": 36,
   "metadata": {},
   "outputs": [],
   "source": [
    "from sklearn.ensemble import RandomForestClassifier\n",
    "rfc = RandomForestClassifier(n_estimators=50)"
   ]
  },
  {
   "cell_type": "code",
   "execution_count": 24,
   "metadata": {},
   "outputs": [
    {
     "name": "stdout",
     "output_type": "stream",
     "text": [
      "Cross-val-mean-Accuracy: 88.17\n",
      " Cross-val-accuarcy-std: 0.04324445370699982\n",
      "Cross-val-Accuracy: 88.17 +- 0.04324445370699982\n"
     ]
    }
   ],
   "source": [
    "metrics(rfc, labels)"
   ]
  },
  {
   "cell_type": "markdown",
   "metadata": {},
   "source": [
    "### RFC model metrics automator\n"
   ]
  },
  {
   "cell_type": "code",
   "execution_count": 36,
   "metadata": {},
   "outputs": [
    {
     "name": "stdout",
     "output_type": "stream",
     "text": [
      "\n",
      "rest-2-wavelet-psd-hjorth.npy:\n",
      "\n",
      "Cross-val-Accuracy: 87.84+-0.040936768662707054\n",
      "\n",
      "rest-2-wavelet-psd-kurtosis.npy:\n",
      "\n",
      "Cross-val-Accuracy: 87.19+-0.0415716748625791\n",
      "\n",
      "rest-2-wavelet-psd.npy:\n",
      "\n",
      "Cross-val-Accuracy: 81.61+-0.041393370287766136\n",
      "\n",
      "rest-2-wavelet.npy:\n",
      "\n",
      "Cross-val-Accuracy: 83.64+-0.04217680829275982\n"
     ]
    }
   ],
   "source": [
    "for feature_file in feature_list:\n",
    "\n",
    "    feature_matrix = np.load(f\"../all-sub-features/{feature_file}\")\n",
    "\n",
    "    labels = feature_matrix[:, -1]\n",
    "    data = feature_matrix[:, :-1]\n",
    "\n",
    "    print(f\"\\n{feature_file}:\\n\")\n",
    "\n",
    "\n",
    "    for train_index, test_index in fold.split(data, labels):\n",
    "\n",
    "        x_train, x_test, y_train, y_test = data[train_index], data[test_index], labels[train_index], labels[test_index]\n",
    "\n",
    "    from sklearn.ensemble import RandomForestClassifier\n",
    "    rfc = RandomForestClassifier(n_estimators=50)\n",
    "\n",
    "    metrics(rfc, labels)"
   ]
  },
  {
   "cell_type": "code",
   "execution_count": 73,
   "metadata": {},
   "outputs": [
    {
     "data": {
      "text/plain": [
       "'XGBClassifier,ExtraTreesClassifier,RandomForestClassifier'"
      ]
     },
     "metadata": {},
     "output_type": "display_data"
    }
   ],
   "source": [
    "models = [xgb, etc, rfc]\n",
    "str_list = []\n",
    "for model in models:\n",
    "  index = str(model).find('(')\n",
    "  str_list.append(str(model)[:index])\n",
    "\n",
    "display(\",\".join(str_list))\n",
    "# display(str([0][:]))"
   ]
  },
  {
   "cell_type": "markdown",
   "metadata": {},
   "source": [
    "### XGB,ETC,RFC multi-roc plot"
   ]
  },
  {
   "cell_type": "code",
   "execution_count": 37,
   "metadata": {},
   "outputs": [
    {
     "data": {
      "image/png": "[encoded data removed]",
      "text/plain": [
       "<Figure size 640x480 with 1 Axes>"
      ]
     },
     "metadata": {},
     "output_type": "display_data"
    }
   ],
   "source": [
    "multi_roc_plot_mpl([rfc, etc, xgb])"
   ]
  },
  {
   "cell_type": "markdown",
   "metadata": {},
   "source": [
    "### SVC"
   ]
  },
  {
   "cell_type": "code",
   "execution_count": 25,
   "metadata": {},
   "outputs": [],
   "source": [
    "from sklearn.svm import SVC\n",
    "svc = SVC(gamma='auto',\n",
    "          probability=True,\n",
    "          )"
   ]
  },
  {
   "cell_type": "code",
   "execution_count": 26,
   "metadata": {},
   "outputs": [
    {
     "name": "stdout",
     "output_type": "stream",
     "text": [
      "Cross-val-mean-Accuracy: 55.05\n",
      " Cross-val-accuarcy-std: 0.03843680668315772\n",
      "Cross-val-Accuracy: 55.05 +- 0.03843680668315772\n"
     ]
    }
   ],
   "source": [
    "metrics(svc, labels)"
   ]
  },
  {
   "cell_type": "markdown",
   "metadata": {},
   "source": [
    "### KNN "
   ]
  },
  {
   "cell_type": "code",
   "execution_count": 27,
   "metadata": {},
   "outputs": [],
   "source": [
    "from sklearn.neighbors import KNeighborsClassifier\n",
    "knn = KNeighborsClassifier(n_neighbors=27)"
   ]
  },
  {
   "cell_type": "code",
   "execution_count": 28,
   "metadata": {},
   "outputs": [
    {
     "name": "stdout",
     "output_type": "stream",
     "text": [
      "Cross-val-mean-Accuracy: 58.57\n",
      " Cross-val-accuarcy-std: 0.01848597810260746\n",
      "Cross-val-Accuracy: 58.57 +- 0.01848597810260746\n"
     ]
    }
   ],
   "source": [
    "metrics(knn, labels)"
   ]
  }
 ],
 "metadata": {
  "kernelspec": {
   "display_name": "Python 3 (ipykernel)",
   "language": "python",
   "name": "python3"
  },
  "language_info": {
   "codemirror_mode": {
    "name": "ipython",
    "version": 3
   },
   "file_extension": ".py",
   "mimetype": "text/x-python",
   "name": "python",
   "nbconvert_exporter": "python",
   "pygments_lexer": "ipython3",
   "version": "3.10.12"
  },
  "varInspector": {
   "cols": {
    "lenName": 16,
    "lenType": 16,
    "lenVar": 40
   },
   "kernels_config": {
    "python": {
     "delete_cmd_postfix": "",
     "delete_cmd_prefix": "del ",
     "library": "var_list.py",
     "varRefreshCmd": "print(var_dic_list())"
    },
    "r": {
     "delete_cmd_postfix": ") ",
     "delete_cmd_prefix": "rm(",
     "library": "var_list.r",
     "varRefreshCmd": "cat(var_dic_list()) "
    }
   },
   "types_to_exclude": [
    "module",
    "function",
    "builtin_function_or_method",
    "instance",
    "_Feature"
   ],
   "window_display": false
  },
  "vscode": {
   "interpreter": {
    "hash": "e7370f93d1d0cde622a1f8e1c04877d8463912d04d973331ad4851f04de6915a"
   }
  }
 },
 "nbformat": 4,
 "nbformat_minor": 2
}
