{
 "cells": [
  {
   "cell_type": "code",
   "execution_count": 1,
   "metadata": {},
   "outputs": [
    {
     "name": "stderr",
     "output_type": "stream",
     "text": [
      "2023-11-08 15:53:16.898371: I tensorflow/core/util/port.cc:111] oneDNN custom operations are on. You may see slightly different numerical results due to floating-point round-off errors from different computation orders. To turn them off, set the environment variable `TF_ENABLE_ONEDNN_OPTS=0`.\n",
      "2023-11-08 15:53:16.900195: I tensorflow/tsl/cuda/cudart_stub.cc:28] Could not find cuda drivers on your machine, GPU will not be used.\n",
      "2023-11-08 15:53:16.928505: E tensorflow/compiler/xla/stream_executor/cuda/cuda_dnn.cc:9342] Unable to register cuDNN factory: Attempting to register factory for plugin cuDNN when one has already been registered\n",
      "2023-11-08 15:53:16.928536: E tensorflow/compiler/xla/stream_executor/cuda/cuda_fft.cc:609] Unable to register cuFFT factory: Attempting to register factory for plugin cuFFT when one has already been registered\n",
      "2023-11-08 15:53:16.928560: E tensorflow/compiler/xla/stream_executor/cuda/cuda_blas.cc:1518] Unable to register cuBLAS factory: Attempting to register factory for plugin cuBLAS when one has already been registered\n",
      "2023-11-08 15:53:16.933811: I tensorflow/tsl/cuda/cudart_stub.cc:28] Could not find cuda drivers on your machine, GPU will not be used.\n",
      "2023-11-08 15:53:16.934651: I tensorflow/core/platform/cpu_feature_guard.cc:182] This TensorFlow binary is optimized to use available CPU instructions in performance-critical operations.\n",
      "To enable the following instructions: AVX2 AVX512F AVX512_VNNI FMA, in other operations, rebuild TensorFlow with the appropriate compiler flags.\n",
      "2023-11-08 15:53:17.678016: W tensorflow/compiler/tf2tensorrt/utils/py_utils.cc:38] TF-TRT Warning: Could not find TensorRT\n",
      "/usr/lib/python3/dist-packages/scipy/__init__.py:146: UserWarning: A NumPy version >=1.17.3 and <1.25.0 is required for this version of SciPy (detected version 1.26.1\n",
      "  warnings.warn(f\"A NumPy version >={np_minversion} and <{np_maxversion}\"\n"
     ]
    }
   ],
   "source": [
    "import tensorflow as tf\n",
    "from tensorflow import keras\n",
    "from keras import models, layers, optimizers\n",
    "from keras.callbacks import EarlyStopping\n",
    "import numpy as np\n",
    "import pandas as pd\n",
    "import plotly.express as px\n",
    "from sklearn.model_selection import StratifiedKFold\n",
    "from sklearn.model_selection import train_test_split\n",
    "from sklearn.model_selection import cross_val_score\n",
    "from sklearn. metrics import confusion_matrix, ConfusionMatrixDisplay , precision_score, recall_score, f1_score, r2_score, roc_curve, roc_auc_score, classification_report"
   ]
  },
  {
   "cell_type": "code",
   "execution_count": 2,
   "metadata": {},
   "outputs": [
    {
     "data": {
      "text/plain": [
       "(16827, 130)"
      ]
     },
     "metadata": {},
     "output_type": "display_data"
    }
   ],
   "source": [
    "feature_vector = np.load(\"./dl_feature_c4.npy\")\n",
    "display(feature_vector.shape)"
   ]
  },
  {
   "cell_type": "code",
   "execution_count": 3,
   "metadata": {},
   "outputs": [],
   "source": [
    "feature_vector = feature_vector.reshape(16827, 13, 10)"
   ]
  },
  {
   "cell_type": "code",
   "execution_count": 4,
   "metadata": {},
   "outputs": [
    {
     "data": {
      "text/plain": [
       "(16827,)"
      ]
     },
     "metadata": {},
     "output_type": "display_data"
    }
   ],
   "source": [
    "labels = np.load(\"./labels_v3.npy\")\n",
    "display(labels.shape)"
   ]
  },
  {
   "cell_type": "code",
   "execution_count": 5,
   "metadata": {},
   "outputs": [],
   "source": [
    "x_train, x_test, y_train, y_test = train_test_split(feature_vector,labels,test_size=0.3)"
   ]
  },
  {
   "cell_type": "code",
   "execution_count": 6,
   "metadata": {},
   "outputs": [
    {
     "data": {
      "text/plain": [
       "(11778, 13, 10)"
      ]
     },
     "metadata": {},
     "output_type": "display_data"
    },
    {
     "data": {
      "text/plain": [
       "(11778,)"
      ]
     },
     "metadata": {},
     "output_type": "display_data"
    }
   ],
   "source": [
    "display(x_train.shape, y_train.shape)"
   ]
  },
  {
   "cell_type": "code",
   "execution_count": 4,
   "metadata": {},
   "outputs": [],
   "source": [
    "# fold = StratifiedKFold(n_splits=10)"
   ]
  },
  {
   "cell_type": "code",
   "execution_count": 5,
   "metadata": {},
   "outputs": [],
   "source": [
    "# for train_index, test_index in fold.split(feature_vector, labels):\n",
    "#     x_train, x_test, y_train, y_test = [feature_vector[i] for i in train_index], [feature_vector[i] for i in test_index], [labels[i] for i in train_index], [labels[i] for i in test_index]"
   ]
  },
  {
   "cell_type": "code",
   "execution_count": 7,
   "metadata": {},
   "outputs": [],
   "source": [
    "y_train = tf.keras.utils.to_categorical(y_train, num_classes=4)\n",
    "y_test = tf.keras.utils.to_categorical(y_test, num_classes=4)"
   ]
  },
  {
   "cell_type": "code",
   "execution_count": 8,
   "metadata": {},
   "outputs": [
    {
     "data": {
      "text/plain": [
       "(11778, 4)"
      ]
     },
     "metadata": {},
     "output_type": "display_data"
    },
    {
     "data": {
      "text/plain": [
       "(5049, 4)"
      ]
     },
     "metadata": {},
     "output_type": "display_data"
    }
   ],
   "source": [
    "display(y_train.shape, y_test.shape)"
   ]
  },
  {
   "cell_type": "code",
   "execution_count": 12,
   "metadata": {},
   "outputs": [
    {
     "name": "stdout",
     "output_type": "stream",
     "text": [
      "Epoch 1/10\n",
      "369/369 [==============================] - 1s 2ms/step - loss: 1.3690 - accuracy: 0.3033\n",
      "Epoch 2/10\n",
      "369/369 [==============================] - 1s 2ms/step - loss: 1.3536 - accuracy: 0.3231\n",
      "Epoch 3/10\n",
      "369/369 [==============================] - 1s 2ms/step - loss: 1.3471 - accuracy: 0.3324\n",
      "Epoch 4/10\n",
      "369/369 [==============================] - 1s 2ms/step - loss: 1.3419 - accuracy: 0.3340\n",
      "Epoch 5/10\n",
      "369/369 [==============================] - 1s 2ms/step - loss: 1.3379 - accuracy: 0.3377\n",
      "Epoch 6/10\n",
      "369/369 [==============================] - 1s 1ms/step - loss: 1.3368 - accuracy: 0.3367\n",
      "Epoch 7/10\n",
      "369/369 [==============================] - 1s 1ms/step - loss: 1.3343 - accuracy: 0.3352\n",
      "Epoch 8/10\n",
      "369/369 [==============================] - 1s 1ms/step - loss: 1.3316 - accuracy: 0.3400\n",
      "Epoch 9/10\n",
      "369/369 [==============================] - 1s 1ms/step - loss: 1.3336 - accuracy: 0.3324\n",
      "Epoch 10/10\n",
      "369/369 [==============================] - 1s 1ms/step - loss: 1.3302 - accuracy: 0.3412\n"
     ]
    },
    {
     "data": {
      "text/plain": [
       "<keras.src.callbacks.History at 0x7fb54fc69e10>"
      ]
     },
     "execution_count": 12,
     "metadata": {},
     "output_type": "execute_result"
    }
   ],
   "source": [
    "#Only Dense layer model\n",
    "# Input layer\n",
    "inputs = layers.Input(shape=(130,))\n",
    "\n",
    "# Hidden layers\n",
    "x = layers.Dense(64, activation='relu')(inputs) \n",
    "x = layers.Dense(32, activation='relu')(x)\n",
    "x = layers.Dense(16, activation='relu')(x)\n",
    "x = layers.Dense(8, activation='relu')(x) \n",
    "\n",
    "# Additional hidden layers\n",
    "x = layers.Dense(16, activation='relu')(x)\n",
    "x = layers.Dense(32, activation='relu')(x) \n",
    "x = layers.Dense(64, activation='relu')(x)\n",
    "\n",
    "# Classification layers  \n",
    "x = layers.Dense(128, activation='relu')(x)\n",
    "outputs = layers.Dense(4, activation='softmax')(x)\n",
    "\n",
    "# Model\n",
    "model = models.Model(inputs=inputs, outputs=outputs)\n",
    "\n",
    "# Compile\n",
    "model.compile(optimizer='adam',\n",
    "              loss='categorical_crossentropy',\n",
    "              metrics=['accuracy'])\n"
   ]
  },
  {
   "cell_type": "code",
   "execution_count": 92,
   "metadata": {},
   "outputs": [],
   "source": [
    "#Model with convoluted layers v1\n",
    "model = models.Sequential()\n",
    "kernel_size = 5\n",
    "\n",
    "model.add(layers.Conv2D(20, kernel_size, padding=\"same\", activation=\"relu\", input_shape=(13,10,1)))\n",
    "model.add(layers.BatchNormalization())\n",
    "\n",
    "model.add(layers.Conv2D(32, kernel_size, padding=\"same\", activation=\"relu\")) \n",
    "model.add(layers.BatchNormalization())\n",
    "model.add(layers.Dropout(0.2))\n",
    "\n",
    "model.add(layers.Conv2D(64, kernel_size, padding=\"same\", activation=\"relu\"))\n",
    "model.add(layers.BatchNormalization()) \n",
    "model.add(layers.Dropout(0.2))\n",
    "\n",
    "model.add(layers.Conv2D(128, kernel_size, padding=\"same\", activation=\"relu\"))\n",
    "model.add(layers.BatchNormalization())\n",
    "model.add(layers.Dropout(0.2))\n",
    "\n",
    "model.add(layers.MaxPooling2D(pool_size=2))\n",
    "\n",
    "model.add(layers.Conv2D(128, kernel_size, padding=\"same\", activation=\"relu\"))  \n",
    "model.add(layers.BatchNormalization())\n",
    "model.add(layers.Dropout(0.2))\n",
    "\n",
    "model.add(layers.MaxPooling2D(pool_size=2))\n",
    "\n",
    "model.add(layers.Flatten())\n",
    "\n",
    "model.add(layers.Dense(64, activation=\"relu\"))\n",
    "model.add(layers.Dense(4, activation=\"relu\"))\n",
    "\n",
    "optimizer = optimizers.Adam(learning_rate=1e-5)\n",
    "\n",
    "model.compile(optimizer=optimizer,\n",
    "              loss=\"categorical_crossentropy\",\n",
    "              metrics=[\"accuracy\"])\n"
   ]
  },
  {
   "cell_type": "code",
   "execution_count": 14,
   "metadata": {},
   "outputs": [],
   "source": [
    "#Model with convoluted layers v2\n",
    "model = models.Sequential()\n",
    "\n",
    "model.add(layers.Conv2D(32, (3,3), activation='relu', \n",
    "                        input_shape=(13,10,1)))\n",
    "model.add(layers.BatchNormalization())\n",
    "model.add(layers.Conv2D(64, (3,3), activation='relu'))  \n",
    "model.add(layers.BatchNormalization())\n",
    "\n",
    "model.add(layers.MaxPooling2D(pool_size=(2,2)))\n",
    "\n",
    "model.add(layers.Flatten())\n",
    "model.add(layers.Dense(128, activation='relu'))\n",
    "\n",
    "model.add(layers.Dense(4, activation='softmax'))\n",
    "\n",
    "model.compile(optimizer='adam',\n",
    "              loss='categorical_crossentropy',\n",
    "              metrics=['accuracy'])"
   ]
  },
  {
   "cell_type": "code",
   "execution_count": 53,
   "metadata": {},
   "outputs": [
    {
     "name": "stdout",
     "output_type": "stream",
     "text": [
      "Epoch 1/20\n",
      "47/47 [==============================] - 1s 5ms/step - loss: 0.5130 - val_loss: 0.0601\n",
      "Epoch 2/20\n",
      "47/47 [==============================] - 0s 3ms/step - loss: -0.3778 - val_loss: -1.5371\n",
      "Epoch 3/20\n",
      "47/47 [==============================] - 0s 3ms/step - loss: -12.3423 - val_loss: -42.5918\n",
      "Epoch 4/20\n",
      "47/47 [==============================] - 0s 3ms/step - loss: -183.5528 - val_loss: -477.4435\n",
      "Epoch 5/20\n",
      "47/47 [==============================] - 0s 3ms/step - loss: -1355.1864 - val_loss: -2928.6357\n",
      "Epoch 6/20\n",
      "47/47 [==============================] - 0s 3ms/step - loss: -6518.0596 - val_loss: -12177.1836\n",
      "Epoch 7/20\n",
      "47/47 [==============================] - 0s 3ms/step - loss: -20481.3320 - val_loss: -31391.1152\n",
      "Epoch 8/20\n",
      "47/47 [==============================] - 0s 3ms/step - loss: -51623.3398 - val_loss: -78852.6875\n",
      "Epoch 9/20\n",
      "47/47 [==============================] - 0s 3ms/step - loss: -125648.5000 - val_loss: -186798.3125\n",
      "Epoch 10/20\n",
      "47/47 [==============================] - 0s 3ms/step - loss: -283767.0938 - val_loss: -405834.6875\n",
      "Epoch 11/20\n",
      "47/47 [==============================] - 0s 4ms/step - loss: -589652.1875 - val_loss: -804134.8125\n",
      "Epoch 12/20\n",
      "47/47 [==============================] - 0s 3ms/step - loss: -1111089.0000 - val_loss: -1472457.3750\n",
      "Epoch 13/20\n",
      "47/47 [==============================] - 0s 3ms/step - loss: -1981380.1250 - val_loss: -2558967.2500\n",
      "Epoch 14/20\n",
      "47/47 [==============================] - 0s 3ms/step - loss: -3338887.5000 - val_loss: -4221154.0000\n",
      "Epoch 15/20\n",
      "47/47 [==============================] - 0s 3ms/step - loss: -5388760.5000 - val_loss: -6680422.5000\n",
      "Epoch 16/20\n",
      "47/47 [==============================] - 0s 3ms/step - loss: -8389902.0000 - val_loss: -10191659.0000\n",
      "Epoch 17/20\n",
      "47/47 [==============================] - 0s 3ms/step - loss: -12633615.0000 - val_loss: -14968178.0000\n",
      "Epoch 18/20\n",
      "47/47 [==============================] - 0s 3ms/step - loss: -18171302.0000 - val_loss: -21220538.0000\n",
      "Epoch 19/20\n",
      "47/47 [==============================] - 0s 3ms/step - loss: -25300452.0000 - val_loss: -29279640.0000\n",
      "Epoch 20/20\n",
      "47/47 [==============================] - 0s 3ms/step - loss: -34805852.0000 - val_loss: -40004312.0000\n",
      "369/369 [==============================] - 0s 631us/step\n",
      "Epoch 1/10\n",
      "369/369 [==============================] - 0s 705us/step - loss: 10402.4844\n",
      "Epoch 2/10\n",
      "369/369 [==============================] - 0s 695us/step - loss: 78.9616\n",
      "Epoch 3/10\n",
      "369/369 [==============================] - 0s 683us/step - loss: 93.6225\n",
      "Epoch 4/10\n",
      "369/369 [==============================] - 0s 671us/step - loss: 95.7458\n",
      "Epoch 5/10\n",
      "369/369 [==============================] - 0s 690us/step - loss: 83.3592\n",
      "Epoch 6/10\n",
      "369/369 [==============================] - 0s 702us/step - loss: 82.3926\n",
      "Epoch 7/10\n",
      "369/369 [==============================] - 0s 699us/step - loss: 106.4112\n",
      "Epoch 8/10\n",
      "369/369 [==============================] - 0s 691us/step - loss: 86.8569\n",
      "Epoch 9/10\n",
      "369/369 [==============================] - 0s 723us/step - loss: 91.7770\n",
      "Epoch 10/10\n",
      "369/369 [==============================] - 0s 787us/step - loss: 87.4236\n"
     ]
    },
    {
     "data": {
      "text/plain": [
       "<keras.src.callbacks.History at 0x7faa08a64c10>"
      ]
     },
     "execution_count": 53,
     "metadata": {},
     "output_type": "execute_result"
    }
   ],
   "source": [
    "#stacked denoising autoencoder model\n",
    "from keras import Sequential\n",
    "from keras.layers import Dense\n",
    "\n",
    "# Parameters\n",
    "input_dim = 130\n",
    "encoding_dims = [64, 32, 16] \n",
    "noise_factor = 0.5\n",
    "\n",
    "# Build the encoder SDA\n",
    "encoder = Sequential()\n",
    "encoder.add(Dense(encoding_dims[0], \n",
    "                  input_shape=(input_dim,),\n",
    "                  activation='relu'))\n",
    "encoder.add(Dense(encoding_dims[1], activation='relu'))  \n",
    "encoder.add(Dense(encoding_dims[2], activation='relu'))\n",
    "\n",
    "# Build the decoder SDA \n",
    "decoder = Sequential()\n",
    "decoder.add(Dense(encoding_dims[1], input_dim=encoding_dims[2], \n",
    "                   activation='relu'))\n",
    "decoder.add(Dense(encoding_dims[0], activation='relu'))\n",
    "decoder.add(Dense(input_dim, activation='sigmoid')) \n",
    "\n",
    "# Compile the SDA\n",
    "sda = Sequential([encoder, decoder])\n",
    "sda.compile(optimizer='adam', loss='binary_crossentropy')\n",
    "\n",
    "# Train as autoencoder\n",
    "sda.fit(x_train, x_train, \n",
    "        epochs=20,\n",
    "        batch_size=256,\n",
    "        validation_data=(x_test, x_test))\n",
    "        \n",
    "# Extract encoded representations \n",
    "encoded = encoder.predict(x_train) \n",
    "\n",
    "# Classify using classifier \n",
    "classifier = Sequential()\n",
    "classifier.add(Dense(4, activation='softmax', input_shape=encoded.shape[1:]))\n",
    "classifier.compile(optimizer='adam', loss='categorical_crossentropy')\n",
    "classifier.fit(encoded, y_train, epochs=10)\n"
   ]
  },
  {
   "cell_type": "code",
   "execution_count": 15,
   "metadata": {},
   "outputs": [
    {
     "name": "stdout",
     "output_type": "stream",
     "text": [
      "Epoch 1/40\n",
      "369/369 [==============================] - 2s 5ms/step - loss: 1.4322 - accuracy: 0.3029 - val_loss: 1.5822 - val_accuracy: 0.2543\n",
      "Epoch 2/40\n",
      "369/369 [==============================] - 2s 4ms/step - loss: 1.3684 - accuracy: 0.3096 - val_loss: 1.3794 - val_accuracy: 0.2719\n",
      "Epoch 3/40\n",
      "369/369 [==============================] - 2s 5ms/step - loss: 1.3539 - accuracy: 0.3187 - val_loss: 1.3543 - val_accuracy: 0.3345\n",
      "Epoch 4/40\n",
      "369/369 [==============================] - 2s 4ms/step - loss: 1.3439 - accuracy: 0.3229 - val_loss: 1.3545 - val_accuracy: 0.3137\n",
      "Epoch 5/40\n",
      "369/369 [==============================] - 2s 4ms/step - loss: 1.3402 - accuracy: 0.3270 - val_loss: 1.3290 - val_accuracy: 0.3407\n",
      "Epoch 6/40\n",
      "369/369 [==============================] - 2s 5ms/step - loss: 1.3381 - accuracy: 0.3320 - val_loss: 1.3428 - val_accuracy: 0.3300\n",
      "Epoch 7/40\n",
      "369/369 [==============================] - 2s 4ms/step - loss: 1.3358 - accuracy: 0.3312 - val_loss: 1.4061 - val_accuracy: 0.3183\n",
      "Epoch 8/40\n",
      "369/369 [==============================] - 2s 4ms/step - loss: 1.3346 - accuracy: 0.3376 - val_loss: 1.3658 - val_accuracy: 0.3329\n",
      "Epoch 9/40\n",
      "369/369 [==============================] - 2s 4ms/step - loss: 1.3356 - accuracy: 0.3311 - val_loss: 1.3375 - val_accuracy: 0.3365\n",
      "Epoch 10/40\n",
      "369/369 [==============================] - 2s 5ms/step - loss: 1.3338 - accuracy: 0.3295 - val_loss: 1.3539 - val_accuracy: 0.3143\n",
      "Epoch 11/40\n",
      "369/369 [==============================] - 2s 6ms/step - loss: 1.3299 - accuracy: 0.3369 - val_loss: 1.4011 - val_accuracy: 0.2900\n",
      "Epoch 12/40\n",
      "369/369 [==============================] - 2s 6ms/step - loss: 1.3293 - accuracy: 0.3391 - val_loss: 1.3257 - val_accuracy: 0.3373\n",
      "Epoch 13/40\n",
      "369/369 [==============================] - 2s 6ms/step - loss: 1.3274 - accuracy: 0.3431 - val_loss: 1.3345 - val_accuracy: 0.3341\n",
      "Epoch 14/40\n",
      "369/369 [==============================] - 2s 6ms/step - loss: 1.3300 - accuracy: 0.3374 - val_loss: 1.3346 - val_accuracy: 0.3430\n",
      "Epoch 15/40\n",
      "369/369 [==============================] - 2s 6ms/step - loss: 1.3253 - accuracy: 0.3392 - val_loss: 1.7064 - val_accuracy: 0.2896\n",
      "Epoch 16/40\n",
      "369/369 [==============================] - 2s 6ms/step - loss: 1.3225 - accuracy: 0.3372 - val_loss: 2.2485 - val_accuracy: 0.2805\n",
      "Epoch 17/40\n",
      "369/369 [==============================] - 2s 6ms/step - loss: 1.3132 - accuracy: 0.3508 - val_loss: 29.3780 - val_accuracy: 0.2480\n",
      "Epoch 18/40\n",
      "369/369 [==============================] - 2s 6ms/step - loss: 1.3147 - accuracy: 0.3552 - val_loss: 17.4442 - val_accuracy: 0.2521\n",
      "Epoch 19/40\n",
      "369/369 [==============================] - 2s 6ms/step - loss: 1.3092 - accuracy: 0.3542 - val_loss: 72.6175 - val_accuracy: 0.2480\n",
      "Epoch 20/40\n",
      "369/369 [==============================] - 2s 6ms/step - loss: 1.2993 - accuracy: 0.3565 - val_loss: 1.4192 - val_accuracy: 0.2834\n",
      "Epoch 21/40\n",
      "369/369 [==============================] - 2s 6ms/step - loss: 1.2897 - accuracy: 0.3645 - val_loss: 13.4685 - val_accuracy: 0.2480\n",
      "Epoch 22/40\n",
      "369/369 [==============================] - 2s 6ms/step - loss: 1.2794 - accuracy: 0.3733 - val_loss: 4.7894 - val_accuracy: 0.2872\n",
      "Epoch 23/40\n",
      "369/369 [==============================] - 2s 6ms/step - loss: 1.2704 - accuracy: 0.3838 - val_loss: 24.4235 - val_accuracy: 0.2490\n",
      "Epoch 24/40\n",
      "369/369 [==============================] - 2s 6ms/step - loss: 1.2569 - accuracy: 0.3915 - val_loss: 6.8179 - val_accuracy: 0.2886\n",
      "Epoch 25/40\n",
      "369/369 [==============================] - 2s 6ms/step - loss: 1.2418 - accuracy: 0.4099 - val_loss: 5.5571 - val_accuracy: 0.2575\n",
      "Epoch 26/40\n",
      "369/369 [==============================] - 2s 6ms/step - loss: 1.2280 - accuracy: 0.4229 - val_loss: 9.0716 - val_accuracy: 0.2503\n",
      "Epoch 27/40\n",
      "369/369 [==============================] - 2s 6ms/step - loss: 1.2088 - accuracy: 0.4356 - val_loss: 62.5789 - val_accuracy: 0.2462\n",
      "Epoch 28/40\n",
      "369/369 [==============================] - 2s 6ms/step - loss: 1.1977 - accuracy: 0.4401 - val_loss: 7.5482 - val_accuracy: 0.2618\n",
      "Epoch 29/40\n",
      "369/369 [==============================] - 2s 6ms/step - loss: 1.1839 - accuracy: 0.4497 - val_loss: 52.4817 - val_accuracy: 0.2470\n",
      "Epoch 30/40\n",
      "369/369 [==============================] - 2s 6ms/step - loss: 1.1663 - accuracy: 0.4619 - val_loss: 2.4275 - val_accuracy: 0.3123\n",
      "Epoch 31/40\n",
      "369/369 [==============================] - 2s 6ms/step - loss: 1.1535 - accuracy: 0.4708 - val_loss: 21.4628 - val_accuracy: 0.2519\n",
      "Epoch 32/40\n",
      "369/369 [==============================] - 2s 6ms/step - loss: 1.1467 - accuracy: 0.4726 - val_loss: 22.6712 - val_accuracy: 0.2484\n",
      "Epoch 33/40\n",
      "369/369 [==============================] - 2s 6ms/step - loss: 1.1324 - accuracy: 0.4795 - val_loss: 13.1456 - val_accuracy: 0.2468\n",
      "Epoch 34/40\n",
      "369/369 [==============================] - 2s 6ms/step - loss: 1.1163 - accuracy: 0.4924 - val_loss: 148.7953 - val_accuracy: 0.2480\n",
      "Epoch 35/40\n",
      "369/369 [==============================] - 2s 6ms/step - loss: 1.1054 - accuracy: 0.4924 - val_loss: 57.2550 - val_accuracy: 0.2478\n",
      "Epoch 36/40\n",
      "369/369 [==============================] - 2s 6ms/step - loss: 1.0891 - accuracy: 0.5051 - val_loss: 2.9302 - val_accuracy: 0.3193\n",
      "Epoch 37/40\n",
      "369/369 [==============================] - 2s 6ms/step - loss: 1.0786 - accuracy: 0.5032 - val_loss: 143.8731 - val_accuracy: 0.2480\n",
      "Epoch 38/40\n",
      "369/369 [==============================] - 2s 6ms/step - loss: 1.0752 - accuracy: 0.5080 - val_loss: 21.1942 - val_accuracy: 0.2478\n",
      "Epoch 39/40\n",
      "369/369 [==============================] - 2s 6ms/step - loss: 1.0857 - accuracy: 0.5015 - val_loss: 199.9664 - val_accuracy: 0.2480\n",
      "Epoch 40/40\n",
      "369/369 [==============================] - 2s 6ms/step - loss: 1.2449 - accuracy: 0.4089 - val_loss: 7.3136 - val_accuracy: 0.2468\n"
     ]
    },
    {
     "data": {
      "text/plain": [
       "<keras.src.callbacks.History at 0x7f6d5432b670>"
      ]
     },
     "execution_count": 15,
     "metadata": {},
     "output_type": "execute_result"
    }
   ],
   "source": [
    "# Train\n",
    "model.fit(x_train, y_train, epochs=40,validation_data=(x_test, y_test))"
   ]
  },
  {
   "cell_type": "code",
   "execution_count": 11,
   "metadata": {},
   "outputs": [],
   "source": [
    "def plot_cnf(cnf_matrix):\n",
    "  fig = px.imshow(cnf_matrix, \n",
    "                 color_continuous_scale='Blues')\n",
    "\n",
    "  fig.update_layout(\n",
    "      title=\"Confusion Matrix with Rest-case-labeled: 0, Zero-back-labeled: 1,One-back-labeled: 2, Two-back-labeled: 3\",\n",
    "      xaxis_title=\"Actual Labels\",\n",
    "      yaxis_title=\"Predicted Labels\",\n",
    "      width= 700,\n",
    "      height=700,\n",
    "  )\n",
    "\n",
    "  fig.update_layout(\n",
    "      font=dict(\n",
    "          size=12\n",
    "      ),\n",
    "      xaxis = dict(\n",
    "          tick0=0,\n",
    "          dtick=1\n",
    "      ),\n",
    "      yaxis = dict(\n",
    "          tick0=0,\n",
    "          dtick=1\n",
    "      )\n",
    "  )\n",
    "\n",
    "  for i in range(len(cnf_matrix)):\n",
    "      for j in range(len(cnf_matrix)):\n",
    "          \n",
    "          if (cnf_matrix[i,j] >= 220):\n",
    "              color = 'white'\n",
    "          else: \n",
    "              color = 'black'\n",
    "\n",
    "          fig.add_annotation(text=str(cnf_matrix[i,j]), \n",
    "                            x=j, \n",
    "                            y=i, \n",
    "                            showarrow=False,\n",
    "                            font=dict(\n",
    "                                color=color,\n",
    "                                size=24,\n",
    "                            ) \n",
    "                            )\n",
    "\n",
    "  fig.show()"
   ]
  },
  {
   "cell_type": "code",
   "execution_count": 13,
   "metadata": {},
   "outputs": [
    {
     "name": "stdout",
     "output_type": "stream",
     "text": [
      "158/158 [==============================] - 0s 2ms/step\n"
     ]
    },
    {
     "data": {
      "application/vnd.plotly.v1+json": {
       "config": {
        "plotlyServerURL": "https://plot.ly"
       },
       "data": [
        {
         "coloraxis": "coloraxis",
         "hovertemplate": "x: %{x}<br>y: %{y}<br>color: %{z}<extra></extra>",
         "name": "0",
         "type": "heatmap",
         "xaxis": "x",
         "yaxis": "y",
         "z": [
          [
           59,
           0,
           1230,
           0
          ],
          [
           33,
           0,
           1219,
           0
          ],
          [
           38,
           0,
           1214,
           0
          ],
          [
           15,
           0,
           1241,
           0
          ]
         ]
        }
       ],
       "layout": {
        "annotations": [
         {
          "font": {
           "color": "black",
           "size": 24
          },
          "showarrow": false,
          "text": "59",
          "x": 0,
          "y": 0
         },
         {
          "font": {
           "color": "black",
           "size": 24
          },
          "showarrow": false,
          "text": "0",
          "x": 1,
          "y": 0
         },
         {
          "font": {
           "color": "white",
           "size": 24
          },
          "showarrow": false,
          "text": "1230",
          "x": 2,
          "y": 0
         },
         {
          "font": {
           "color": "black",
           "size": 24
          },
          "showarrow": false,
          "text": "0",
          "x": 3,
          "y": 0
         },
         {
          "font": {
           "color": "black",
           "size": 24
          },
          "showarrow": false,
          "text": "33",
          "x": 0,
          "y": 1
         },
         {
          "font": {
           "color": "black",
           "size": 24
          },
          "showarrow": false,
          "text": "0",
          "x": 1,
          "y": 1
         },
         {
          "font": {
           "color": "white",
           "size": 24
          },
          "showarrow": false,
          "text": "1219",
          "x": 2,
          "y": 1
         },
         {
          "font": {
           "color": "black",
           "size": 24
          },
          "showarrow": false,
          "text": "0",
          "x": 3,
          "y": 1
         },
         {
          "font": {
           "color": "black",
           "size": 24
          },
          "showarrow": false,
          "text": "38",
          "x": 0,
          "y": 2
         },
         {
          "font": {
           "color": "black",
           "size": 24
          },
          "showarrow": false,
          "text": "0",
          "x": 1,
          "y": 2
         },
         {
          "font": {
           "color": "white",
           "size": 24
          },
          "showarrow": false,
          "text": "1214",
          "x": 2,
          "y": 2
         },
         {
          "font": {
           "color": "black",
           "size": 24
          },
          "showarrow": false,
          "text": "0",
          "x": 3,
          "y": 2
         },
         {
          "font": {
           "color": "black",
           "size": 24
          },
          "showarrow": false,
          "text": "15",
          "x": 0,
          "y": 3
         },
         {
          "font": {
           "color": "black",
           "size": 24
          },
          "showarrow": false,
          "text": "0",
          "x": 1,
          "y": 3
         },
         {
          "font": {
           "color": "white",
           "size": 24
          },
          "showarrow": false,
          "text": "1241",
          "x": 2,
          "y": 3
         },
         {
          "font": {
           "color": "black",
           "size": 24
          },
          "showarrow": false,
          "text": "0",
          "x": 3,
          "y": 3
         }
        ],
        "coloraxis": {
         "colorscale": [
          [
           0,
           "rgb(247,251,255)"
          ],
          [
           0.125,
           "rgb(222,235,247)"
          ],
          [
           0.25,
           "rgb(198,219,239)"
          ],
          [
           0.375,
           "rgb(158,202,225)"
          ],
          [
           0.5,
           "rgb(107,174,214)"
          ],
          [
           0.625,
           "rgb(66,146,198)"
          ],
          [
           0.75,
           "rgb(33,113,181)"
          ],
          [
           0.875,
           "rgb(8,81,156)"
          ],
          [
           1,
           "rgb(8,48,107)"
          ]
         ]
        },
        "font": {
         "size": 12
        },
        "height": 700,
        "margin": {
         "t": 60
        },
        "template": {
         "data": {
          "bar": [
           {
            "error_x": {
             "color": "#2a3f5f"
            },
            "error_y": {
             "color": "#2a3f5f"
            },
            "marker": {
             "line": {
              "color": "#E5ECF6",
              "width": 0.5
             },
             "pattern": {
              "fillmode": "overlay",
              "size": 10,
              "solidity": 0.2
             }
            },
            "type": "bar"
           }
          ],
          "barpolar": [
           {
            "marker": {
             "line": {
              "color": "#E5ECF6",
              "width": 0.5
             },
             "pattern": {
              "fillmode": "overlay",
              "size": 10,
              "solidity": 0.2
             }
            },
            "type": "barpolar"
           }
          ],
          "carpet": [
           {
            "aaxis": {
             "endlinecolor": "#2a3f5f",
             "gridcolor": "white",
             "linecolor": "white",
             "minorgridcolor": "white",
             "startlinecolor": "#2a3f5f"
            },
            "baxis": {
             "endlinecolor": "#2a3f5f",
             "gridcolor": "white",
             "linecolor": "white",
             "minorgridcolor": "white",
             "startlinecolor": "#2a3f5f"
            },
            "type": "carpet"
           }
          ],
          "choropleth": [
           {
            "colorbar": {
             "outlinewidth": 0,
             "ticks": ""
            },
            "type": "choropleth"
           }
          ],
          "contour": [
           {
            "colorbar": {
             "outlinewidth": 0,
             "ticks": ""
            },
            "colorscale": [
             [
              0,
              "#0d0887"
             ],
             [
              0.1111111111111111,
              "#46039f"
             ],
             [
              0.2222222222222222,
              "#7201a8"
             ],
             [
              0.3333333333333333,
              "#9c179e"
             ],
             [
              0.4444444444444444,
              "#bd3786"
             ],
             [
              0.5555555555555556,
              "#d8576b"
             ],
             [
              0.6666666666666666,
              "#ed7953"
             ],
             [
              0.7777777777777778,
              "#fb9f3a"
             ],
             [
              0.8888888888888888,
              "#fdca26"
             ],
             [
              1,
              "#f0f921"
             ]
            ],
            "type": "contour"
           }
          ],
          "contourcarpet": [
           {
            "colorbar": {
             "outlinewidth": 0,
             "ticks": ""
            },
            "type": "contourcarpet"
           }
          ],
          "heatmap": [
           {
            "colorbar": {
             "outlinewidth": 0,
             "ticks": ""
            },
            "colorscale": [
             [
              0,
              "#0d0887"
             ],
             [
              0.1111111111111111,
              "#46039f"
             ],
             [
              0.2222222222222222,
              "#7201a8"
             ],
             [
              0.3333333333333333,
              "#9c179e"
             ],
             [
              0.4444444444444444,
              "#bd3786"
             ],
             [
              0.5555555555555556,
              "#d8576b"
             ],
             [
              0.6666666666666666,
              "#ed7953"
             ],
             [
              0.7777777777777778,
              "#fb9f3a"
             ],
             [
              0.8888888888888888,
              "#fdca26"
             ],
             [
              1,
              "#f0f921"
             ]
            ],
            "type": "heatmap"
           }
          ],
          "heatmapgl": [
           {
            "colorbar": {
             "outlinewidth": 0,
             "ticks": ""
            },
            "colorscale": [
             [
              0,
              "#0d0887"
             ],
             [
              0.1111111111111111,
              "#46039f"
             ],
             [
              0.2222222222222222,
              "#7201a8"
             ],
             [
              0.3333333333333333,
              "#9c179e"
             ],
             [
              0.4444444444444444,
              "#bd3786"
             ],
             [
              0.5555555555555556,
              "#d8576b"
             ],
             [
              0.6666666666666666,
              "#ed7953"
             ],
             [
              0.7777777777777778,
              "#fb9f3a"
             ],
             [
              0.8888888888888888,
              "#fdca26"
             ],
             [
              1,
              "#f0f921"
             ]
            ],
            "type": "heatmapgl"
           }
          ],
          "histogram": [
           {
            "marker": {
             "pattern": {
              "fillmode": "overlay",
              "size": 10,
              "solidity": 0.2
             }
            },
            "type": "histogram"
           }
          ],
          "histogram2d": [
           {
            "colorbar": {
             "outlinewidth": 0,
             "ticks": ""
            },
            "colorscale": [
             [
              0,
              "#0d0887"
             ],
             [
              0.1111111111111111,
              "#46039f"
             ],
             [
              0.2222222222222222,
              "#7201a8"
             ],
             [
              0.3333333333333333,
              "#9c179e"
             ],
             [
              0.4444444444444444,
              "#bd3786"
             ],
             [
              0.5555555555555556,
              "#d8576b"
             ],
             [
              0.6666666666666666,
              "#ed7953"
             ],
             [
              0.7777777777777778,
              "#fb9f3a"
             ],
             [
              0.8888888888888888,
              "#fdca26"
             ],
             [
              1,
              "#f0f921"
             ]
            ],
            "type": "histogram2d"
           }
          ],
          "histogram2dcontour": [
           {
            "colorbar": {
             "outlinewidth": 0,
             "ticks": ""
            },
            "colorscale": [
             [
              0,
              "#0d0887"
             ],
             [
              0.1111111111111111,
              "#46039f"
             ],
             [
              0.2222222222222222,
              "#7201a8"
             ],
             [
              0.3333333333333333,
              "#9c179e"
             ],
             [
              0.4444444444444444,
              "#bd3786"
             ],
             [
              0.5555555555555556,
              "#d8576b"
             ],
             [
              0.6666666666666666,
              "#ed7953"
             ],
             [
              0.7777777777777778,
              "#fb9f3a"
             ],
             [
              0.8888888888888888,
              "#fdca26"
             ],
             [
              1,
              "#f0f921"
             ]
            ],
            "type": "histogram2dcontour"
           }
          ],
          "mesh3d": [
           {
            "colorbar": {
             "outlinewidth": 0,
             "ticks": ""
            },
            "type": "mesh3d"
           }
          ],
          "parcoords": [
           {
            "line": {
             "colorbar": {
              "outlinewidth": 0,
              "ticks": ""
             }
            },
            "type": "parcoords"
           }
          ],
          "pie": [
           {
            "automargin": true,
            "type": "pie"
           }
          ],
          "scatter": [
           {
            "fillpattern": {
             "fillmode": "overlay",
             "size": 10,
             "solidity": 0.2
            },
            "type": "scatter"
           }
          ],
          "scatter3d": [
           {
            "line": {
             "colorbar": {
              "outlinewidth": 0,
              "ticks": ""
             }
            },
            "marker": {
             "colorbar": {
              "outlinewidth": 0,
              "ticks": ""
             }
            },
            "type": "scatter3d"
           }
          ],
          "scattercarpet": [
           {
            "marker": {
             "colorbar": {
              "outlinewidth": 0,
              "ticks": ""
             }
            },
            "type": "scattercarpet"
           }
          ],
          "scattergeo": [
           {
            "marker": {
             "colorbar": {
              "outlinewidth": 0,
              "ticks": ""
             }
            },
            "type": "scattergeo"
           }
          ],
          "scattergl": [
           {
            "marker": {
             "colorbar": {
              "outlinewidth": 0,
              "ticks": ""
             }
            },
            "type": "scattergl"
           }
          ],
          "scattermapbox": [
           {
            "marker": {
             "colorbar": {
              "outlinewidth": 0,
              "ticks": ""
             }
            },
            "type": "scattermapbox"
           }
          ],
          "scatterpolar": [
           {
            "marker": {
             "colorbar": {
              "outlinewidth": 0,
              "ticks": ""
             }
            },
            "type": "scatterpolar"
           }
          ],
          "scatterpolargl": [
           {
            "marker": {
             "colorbar": {
              "outlinewidth": 0,
              "ticks": ""
             }
            },
            "type": "scatterpolargl"
           }
          ],
          "scatterternary": [
           {
            "marker": {
             "colorbar": {
              "outlinewidth": 0,
              "ticks": ""
             }
            },
            "type": "scatterternary"
           }
          ],
          "surface": [
           {
            "colorbar": {
             "outlinewidth": 0,
             "ticks": ""
            },
            "colorscale": [
             [
              0,
              "#0d0887"
             ],
             [
              0.1111111111111111,
              "#46039f"
             ],
             [
              0.2222222222222222,
              "#7201a8"
             ],
             [
              0.3333333333333333,
              "#9c179e"
             ],
             [
              0.4444444444444444,
              "#bd3786"
             ],
             [
              0.5555555555555556,
              "#d8576b"
             ],
             [
              0.6666666666666666,
              "#ed7953"
             ],
             [
              0.7777777777777778,
              "#fb9f3a"
             ],
             [
              0.8888888888888888,
              "#fdca26"
             ],
             [
              1,
              "#f0f921"
             ]
            ],
            "type": "surface"
           }
          ],
          "table": [
           {
            "cells": {
             "fill": {
              "color": "#EBF0F8"
             },
             "line": {
              "color": "white"
             }
            },
            "header": {
             "fill": {
              "color": "#C8D4E3"
             },
             "line": {
              "color": "white"
             }
            },
            "type": "table"
           }
          ]
         },
         "layout": {
          "annotationdefaults": {
           "arrowcolor": "#2a3f5f",
           "arrowhead": 0,
           "arrowwidth": 1
          },
          "autotypenumbers": "strict",
          "coloraxis": {
           "colorbar": {
            "outlinewidth": 0,
            "ticks": ""
           }
          },
          "colorscale": {
           "diverging": [
            [
             0,
             "#8e0152"
            ],
            [
             0.1,
             "#c51b7d"
            ],
            [
             0.2,
             "#de77ae"
            ],
            [
             0.3,
             "#f1b6da"
            ],
            [
             0.4,
             "#fde0ef"
            ],
            [
             0.5,
             "#f7f7f7"
            ],
            [
             0.6,
             "#e6f5d0"
            ],
            [
             0.7,
             "#b8e186"
            ],
            [
             0.8,
             "#7fbc41"
            ],
            [
             0.9,
             "#4d9221"
            ],
            [
             1,
             "#276419"
            ]
           ],
           "sequential": [
            [
             0,
             "#0d0887"
            ],
            [
             0.1111111111111111,
             "#46039f"
            ],
            [
             0.2222222222222222,
             "#7201a8"
            ],
            [
             0.3333333333333333,
             "#9c179e"
            ],
            [
             0.4444444444444444,
             "#bd3786"
            ],
            [
             0.5555555555555556,
             "#d8576b"
            ],
            [
             0.6666666666666666,
             "#ed7953"
            ],
            [
             0.7777777777777778,
             "#fb9f3a"
            ],
            [
             0.8888888888888888,
             "#fdca26"
            ],
            [
             1,
             "#f0f921"
            ]
           ],
           "sequentialminus": [
            [
             0,
             "#0d0887"
            ],
            [
             0.1111111111111111,
             "#46039f"
            ],
            [
             0.2222222222222222,
             "#7201a8"
            ],
            [
             0.3333333333333333,
             "#9c179e"
            ],
            [
             0.4444444444444444,
             "#bd3786"
            ],
            [
             0.5555555555555556,
             "#d8576b"
            ],
            [
             0.6666666666666666,
             "#ed7953"
            ],
            [
             0.7777777777777778,
             "#fb9f3a"
            ],
            [
             0.8888888888888888,
             "#fdca26"
            ],
            [
             1,
             "#f0f921"
            ]
           ]
          },
          "colorway": [
           "#636efa",
           "#EF553B",
           "#00cc96",
           "#ab63fa",
           "#FFA15A",
           "#19d3f3",
           "#FF6692",
           "#B6E880",
           "#FF97FF",
           "#FECB52"
          ],
          "font": {
           "color": "#2a3f5f"
          },
          "geo": {
           "bgcolor": "white",
           "lakecolor": "white",
           "landcolor": "#E5ECF6",
           "showlakes": true,
           "showland": true,
           "subunitcolor": "white"
          },
          "hoverlabel": {
           "align": "left"
          },
          "hovermode": "closest",
          "mapbox": {
           "style": "light"
          },
          "paper_bgcolor": "white",
          "plot_bgcolor": "#E5ECF6",
          "polar": {
           "angularaxis": {
            "gridcolor": "white",
            "linecolor": "white",
            "ticks": ""
           },
           "bgcolor": "#E5ECF6",
           "radialaxis": {
            "gridcolor": "white",
            "linecolor": "white",
            "ticks": ""
           }
          },
          "scene": {
           "xaxis": {
            "backgroundcolor": "#E5ECF6",
            "gridcolor": "white",
            "gridwidth": 2,
            "linecolor": "white",
            "showbackground": true,
            "ticks": "",
            "zerolinecolor": "white"
           },
           "yaxis": {
            "backgroundcolor": "#E5ECF6",
            "gridcolor": "white",
            "gridwidth": 2,
            "linecolor": "white",
            "showbackground": true,
            "ticks": "",
            "zerolinecolor": "white"
           },
           "zaxis": {
            "backgroundcolor": "#E5ECF6",
            "gridcolor": "white",
            "gridwidth": 2,
            "linecolor": "white",
            "showbackground": true,
            "ticks": "",
            "zerolinecolor": "white"
           }
          },
          "shapedefaults": {
           "line": {
            "color": "#2a3f5f"
           }
          },
          "ternary": {
           "aaxis": {
            "gridcolor": "white",
            "linecolor": "white",
            "ticks": ""
           },
           "baxis": {
            "gridcolor": "white",
            "linecolor": "white",
            "ticks": ""
           },
           "bgcolor": "#E5ECF6",
           "caxis": {
            "gridcolor": "white",
            "linecolor": "white",
            "ticks": ""
           }
          },
          "title": {
           "x": 0.05
          },
          "xaxis": {
           "automargin": true,
           "gridcolor": "white",
           "linecolor": "white",
           "ticks": "",
           "title": {
            "standoff": 15
           },
           "zerolinecolor": "white",
           "zerolinewidth": 2
          },
          "yaxis": {
           "automargin": true,
           "gridcolor": "white",
           "linecolor": "white",
           "ticks": "",
           "title": {
            "standoff": 15
           },
           "zerolinecolor": "white",
           "zerolinewidth": 2
          }
         }
        },
        "title": {
         "text": "Confusion Matrix with Rest-case-labeled: 0, Zero-back-labeled: 1,One-back-labeled: 2, Two-back-labeled: 3"
        },
        "width": 700,
        "xaxis": {
         "anchor": "y",
         "constrain": "domain",
         "domain": [
          0,
          1
         ],
         "dtick": 1,
         "scaleanchor": "y",
         "tick0": 0,
         "title": {
          "text": "Actual Labels"
         }
        },
        "yaxis": {
         "anchor": "x",
         "autorange": "reversed",
         "constrain": "domain",
         "domain": [
          0,
          1
         ],
         "dtick": 1,
         "tick0": 0,
         "title": {
          "text": "Predicted Labels"
         }
        }
       }
      }
     },
     "metadata": {},
     "output_type": "display_data"
    }
   ],
   "source": [
    "y_pred = model.predict(x_test)\n",
    "y_pred_classes = np.argmax(y_pred, axis=1)\n",
    "y_true = np.argmax(y_test, axis=1)\n",
    "confusion_mtx = confusion_matrix(y_true, y_pred_classes)\n",
    "plot_cnf(confusion_mtx)"
   ]
  },
  {
   "cell_type": "code",
   "execution_count": 25,
   "metadata": {},
   "outputs": [],
   "source": [
    "def plot_roc(tpr, fpr):\n",
    "  fig = px.line(x=fpr, \n",
    "              y=tpr,\n",
    "              )\n",
    "  fig.add_scatter(x=[0,1], \n",
    "                  y=[0,1],\n",
    "                  line=dict(color='navy', dash='dash'),\n",
    "                  name=\"Guessing\"\n",
    "                  )\n",
    "\n",
    "  fig.update_layout(\n",
    "      title='ROC Curve',\n",
    "      xaxis_title='False Positive Rate',\n",
    "      yaxis_title='True Positive Rate',\n",
    "      width=700,\n",
    "      height=500,\n",
    "  )\n",
    "\n",
    "  fig.show()"
   ]
  },
  {
   "cell_type": "code",
   "execution_count": 33,
   "metadata": {},
   "outputs": [],
   "source": [
    "# Performance metrics calculation function\n",
    "\n",
    "def metrics(model, labels = labels, epoch=10):\n",
    "  # Using average of cross val score for accuracy\n",
    "  # score = cross_val_score(model, \n",
    "  #                                 data, \n",
    "  #                                 labels,\n",
    "  #                                 cv=10,\n",
    "  #                               )\n",
    "  \n",
    "  # cross_val_acc = np.average(score)\n",
    "\n",
    "  # Training the model on x_train and y_train\n",
    "  model.fit(x_train, y_train, epochs=epoch)\n",
    "\n",
    "  # Getting the class-label predictions and class-label prediction probabilities from the trained model\n",
    "  model_predictions = model.predict(x_test)         # model_predictions.shape = [len(x-test)], (label(ith epoch))\n",
    "  # y_pred_prob = model.predict_proba(x_test)         # y_pred_prob.shape = [len(x-test), 2], (prob(label0), prob(label1))\n",
    "\n",
    "  # Building the Classification Report using the predictions as a dataframe without the accuracy column\n",
    "  # classif_report = pd.DataFrame(classification_report(y_true=y_test, \n",
    "  #                                                     y_pred=model_predictions, \n",
    "  #                                                     output_dict=True,\n",
    "  #                                                     zero_division=0,\n",
    "  #                                                     )\n",
    "  #                               ).drop(labels=\"accuracy\", axis=1).T.round(2)\n",
    "  \n",
    "  # Building the Confusion Matrix using the predicted class labels\n",
    "  cnf_matrix = confusion_matrix(y_true=y_test, y_pred=model_predictions)\n",
    "  \n",
    "  # if len(np.unique(labels)) == 2:\n",
    "  #   # Getting the FalsePositiveRate and TruePositveRates from plotting the ROC curve\n",
    "  #   fpr, tpr, thresholds = roc_curve(y_test, y_pred_prob[:,1])\n",
    "\n",
    "  # if len(np.unique(labels)) == 2:\n",
    "  #   # Calculating the Area under the ROC curve ie, AUC using class label prediction probabilities\n",
    "  #   auc = roc_auc_score(y_test, y_pred_prob[:,1])\n",
    "\n",
    "  # else:\n",
    "  #   micro_roc_auc_ovr = roc_auc_score(\n",
    "  #                                     y_test,\n",
    "  #                                     y_pred_prob,\n",
    "  #                                     multi_class=\"ovr\",\n",
    "  #                                     average=\"micro\",\n",
    "  #                                     )\n",
    "    \n",
    "  #   macro_roc_auc_ovr = roc_auc_score(\n",
    "  #                                     y_test,\n",
    "  #                                     y_pred_prob,\n",
    "  #                                     multi_class=\"ovr\",\n",
    "  #                                     average=\"macro\",\n",
    "  #                                     )\n",
    "    \n",
    "  #   macro_roc_auc_ovo = roc_auc_score(\n",
    "  #                                     y_test,\n",
    "  #                                     y_pred_prob,\n",
    "  #                                     multi_class=\"ovo\",\n",
    "  #                                     average=\"macro\",\n",
    "  #                                     )\n",
    "    \n",
    "  # print(f\"Cross-val-mean-Accuracy: {cross_val_acc:.4f}\\n\")\n",
    "\n",
    "  # display(classif_report)\n",
    "\n",
    "  plot_cnf(cnf_matrix=cnf_matrix)\n",
    "\n",
    "  # if len(np.unique(labels)) == 2:\n",
    "  #   plot_roc(tpr=tpr,\n",
    "  #           fpr=fpr,\n",
    "  #           )\n",
    "  \n",
    "  # if len(np.unique(labels)) == 2:\n",
    "  #   print(f\"Area Under the ROC Curve (AUC): {auc:.4f}\")\n",
    "  \n",
    "  # else:\n",
    "  #   print(f\"\\nMicro-averaged One-vs-Rest ROC AUC score:{micro_roc_auc_ovr:.2f}\")\n",
    "  #   print(f\"\\nMacro-averaged One-vs-Rest ROC AUC score:{macro_roc_auc_ovr:.2f}\")\n",
    "  #   print(f\"\\nMacro-averaged One-vs-One ROC AUC score:{macro_roc_auc_ovo:.2f}\")"
   ]
  },
  {
   "cell_type": "code",
   "execution_count": 34,
   "metadata": {},
   "outputs": [
    {
     "name": "stdout",
     "output_type": "stream",
     "text": [
      "Epoch 1/3\n",
      "369/369 [==============================] - 1s 2ms/step - loss: 1.3144 - accuracy: 0.3573\n",
      "Epoch 2/3\n",
      "369/369 [==============================] - 1s 2ms/step - loss: 1.3136 - accuracy: 0.3588\n",
      "Epoch 3/3\n",
      "369/369 [==============================] - 1s 2ms/step - loss: 1.3152 - accuracy: 0.3528\n",
      "158/158 [==============================] - 0s 950us/step\n"
     ]
    },
    {
     "ename": "ValueError",
     "evalue": "Classification metrics can't handle a mix of multilabel-indicator and continuous-multioutput targets",
     "output_type": "error",
     "traceback": [
      "\u001b[0;31m---------------------------------------------------------------------------\u001b[0m",
      "\u001b[0;31mValueError\u001b[0m                                Traceback (most recent call last)",
      "\u001b[1;32m/home/rahul/clg/BTP-files/codes-v2/deepLearning.ipynb Cell 15\u001b[0m line \u001b[0;36m1\n\u001b[0;32m----> <a href='vscode-notebook-cell:/home/rahul/clg/BTP-files/codes-v2/deepLearning.ipynb#X20sZmlsZQ%3D%3D?line=0'>1</a>\u001b[0m metrics(model\u001b[39m=\u001b[39;49mmodel, epoch\u001b[39m=\u001b[39;49m\u001b[39m3\u001b[39;49m)\n",
      "\u001b[1;32m/home/rahul/clg/BTP-files/codes-v2/deepLearning.ipynb Cell 15\u001b[0m line \u001b[0;36m2\n\u001b[1;32m     <a href='vscode-notebook-cell:/home/rahul/clg/BTP-files/codes-v2/deepLearning.ipynb#X20sZmlsZQ%3D%3D?line=16'>17</a>\u001b[0m model_predictions \u001b[39m=\u001b[39m model\u001b[39m.\u001b[39mpredict(x_test)         \u001b[39m# model_predictions.shape = [len(x-test)], (label(ith epoch))\u001b[39;00m\n\u001b[1;32m     <a href='vscode-notebook-cell:/home/rahul/clg/BTP-files/codes-v2/deepLearning.ipynb#X20sZmlsZQ%3D%3D?line=17'>18</a>\u001b[0m \u001b[39m# y_pred_prob = model.predict_proba(x_test)         # y_pred_prob.shape = [len(x-test), 2], (prob(label0), prob(label1))\u001b[39;00m\n\u001b[1;32m     <a href='vscode-notebook-cell:/home/rahul/clg/BTP-files/codes-v2/deepLearning.ipynb#X20sZmlsZQ%3D%3D?line=18'>19</a>\u001b[0m \n\u001b[1;32m     <a href='vscode-notebook-cell:/home/rahul/clg/BTP-files/codes-v2/deepLearning.ipynb#X20sZmlsZQ%3D%3D?line=19'>20</a>\u001b[0m \u001b[39m# Building the Classification Report using the predictions as a dataframe without the accuracy column\u001b[39;00m\n\u001b[0;32m   (...)\u001b[0m\n\u001b[1;32m     <a href='vscode-notebook-cell:/home/rahul/clg/BTP-files/codes-v2/deepLearning.ipynb#X20sZmlsZQ%3D%3D?line=26'>27</a>\u001b[0m \n\u001b[1;32m     <a href='vscode-notebook-cell:/home/rahul/clg/BTP-files/codes-v2/deepLearning.ipynb#X20sZmlsZQ%3D%3D?line=27'>28</a>\u001b[0m \u001b[39m# Building the Confusion Matrix using the predicted class labels\u001b[39;00m\n\u001b[0;32m---> <a href='vscode-notebook-cell:/home/rahul/clg/BTP-files/codes-v2/deepLearning.ipynb#X20sZmlsZQ%3D%3D?line=28'>29</a>\u001b[0m cnf_matrix \u001b[39m=\u001b[39m confusion_matrix(y_true\u001b[39m=\u001b[39;49my_test, y_pred\u001b[39m=\u001b[39;49mmodel_predictions)\n\u001b[1;32m     <a href='vscode-notebook-cell:/home/rahul/clg/BTP-files/codes-v2/deepLearning.ipynb#X20sZmlsZQ%3D%3D?line=30'>31</a>\u001b[0m \u001b[39m# if len(np.unique(labels)) == 2:\u001b[39;00m\n\u001b[1;32m     <a href='vscode-notebook-cell:/home/rahul/clg/BTP-files/codes-v2/deepLearning.ipynb#X20sZmlsZQ%3D%3D?line=31'>32</a>\u001b[0m \u001b[39m#   # Getting the FalsePositiveRate and TruePositveRates from plotting the ROC curve\u001b[39;00m\n\u001b[1;32m     <a href='vscode-notebook-cell:/home/rahul/clg/BTP-files/codes-v2/deepLearning.ipynb#X20sZmlsZQ%3D%3D?line=32'>33</a>\u001b[0m \u001b[39m#   fpr, tpr, thresholds = roc_curve(y_test, y_pred_prob[:,1])\u001b[39;00m\n\u001b[0;32m   (...)\u001b[0m\n\u001b[1;32m     <a href='vscode-notebook-cell:/home/rahul/clg/BTP-files/codes-v2/deepLearning.ipynb#X20sZmlsZQ%3D%3D?line=61'>62</a>\u001b[0m \n\u001b[1;32m     <a href='vscode-notebook-cell:/home/rahul/clg/BTP-files/codes-v2/deepLearning.ipynb#X20sZmlsZQ%3D%3D?line=62'>63</a>\u001b[0m \u001b[39m# display(classif_report)\u001b[39;00m\n\u001b[1;32m     <a href='vscode-notebook-cell:/home/rahul/clg/BTP-files/codes-v2/deepLearning.ipynb#X20sZmlsZQ%3D%3D?line=64'>65</a>\u001b[0m plot_cnf(cnf_matrix\u001b[39m=\u001b[39mcnf_matrix)\n",
      "File \u001b[0;32m~/.local/lib/python3.10/site-packages/sklearn/utils/_param_validation.py:214\u001b[0m, in \u001b[0;36mvalidate_params.<locals>.decorator.<locals>.wrapper\u001b[0;34m(*args, **kwargs)\u001b[0m\n\u001b[1;32m    208\u001b[0m \u001b[39mtry\u001b[39;00m:\n\u001b[1;32m    209\u001b[0m     \u001b[39mwith\u001b[39;00m config_context(\n\u001b[1;32m    210\u001b[0m         skip_parameter_validation\u001b[39m=\u001b[39m(\n\u001b[1;32m    211\u001b[0m             prefer_skip_nested_validation \u001b[39mor\u001b[39;00m global_skip_validation\n\u001b[1;32m    212\u001b[0m         )\n\u001b[1;32m    213\u001b[0m     ):\n\u001b[0;32m--> 214\u001b[0m         \u001b[39mreturn\u001b[39;00m func(\u001b[39m*\u001b[39;49margs, \u001b[39m*\u001b[39;49m\u001b[39m*\u001b[39;49mkwargs)\n\u001b[1;32m    215\u001b[0m \u001b[39mexcept\u001b[39;00m InvalidParameterError \u001b[39mas\u001b[39;00m e:\n\u001b[1;32m    216\u001b[0m     \u001b[39m# When the function is just a wrapper around an estimator, we allow\u001b[39;00m\n\u001b[1;32m    217\u001b[0m     \u001b[39m# the function to delegate validation to the estimator, but we replace\u001b[39;00m\n\u001b[1;32m    218\u001b[0m     \u001b[39m# the name of the estimator by the name of the function in the error\u001b[39;00m\n\u001b[1;32m    219\u001b[0m     \u001b[39m# message to avoid confusion.\u001b[39;00m\n\u001b[1;32m    220\u001b[0m     msg \u001b[39m=\u001b[39m re\u001b[39m.\u001b[39msub(\n\u001b[1;32m    221\u001b[0m         \u001b[39mr\u001b[39m\u001b[39m\"\u001b[39m\u001b[39mparameter of \u001b[39m\u001b[39m\\\u001b[39m\u001b[39mw+ must be\u001b[39m\u001b[39m\"\u001b[39m,\n\u001b[1;32m    222\u001b[0m         \u001b[39mf\u001b[39m\u001b[39m\"\u001b[39m\u001b[39mparameter of \u001b[39m\u001b[39m{\u001b[39;00mfunc\u001b[39m.\u001b[39m\u001b[39m__qualname__\u001b[39m\u001b[39m}\u001b[39;00m\u001b[39m must be\u001b[39m\u001b[39m\"\u001b[39m,\n\u001b[1;32m    223\u001b[0m         \u001b[39mstr\u001b[39m(e),\n\u001b[1;32m    224\u001b[0m     )\n",
      "File \u001b[0;32m~/.local/lib/python3.10/site-packages/sklearn/metrics/_classification.py:326\u001b[0m, in \u001b[0;36mconfusion_matrix\u001b[0;34m(y_true, y_pred, labels, sample_weight, normalize)\u001b[0m\n\u001b[1;32m    231\u001b[0m \u001b[39m@validate_params\u001b[39m(\n\u001b[1;32m    232\u001b[0m     {\n\u001b[1;32m    233\u001b[0m         \u001b[39m\"\u001b[39m\u001b[39my_true\u001b[39m\u001b[39m\"\u001b[39m: [\u001b[39m\"\u001b[39m\u001b[39marray-like\u001b[39m\u001b[39m\"\u001b[39m],\n\u001b[0;32m   (...)\u001b[0m\n\u001b[1;32m    242\u001b[0m     y_true, y_pred, \u001b[39m*\u001b[39m, labels\u001b[39m=\u001b[39m\u001b[39mNone\u001b[39;00m, sample_weight\u001b[39m=\u001b[39m\u001b[39mNone\u001b[39;00m, normalize\u001b[39m=\u001b[39m\u001b[39mNone\u001b[39;00m\n\u001b[1;32m    243\u001b[0m ):\n\u001b[1;32m    244\u001b[0m     \u001b[39m\"\"\"Compute confusion matrix to evaluate the accuracy of a classification.\u001b[39;00m\n\u001b[1;32m    245\u001b[0m \n\u001b[1;32m    246\u001b[0m \u001b[39m    By definition a confusion matrix :math:`C` is such that :math:`C_{i, j}`\u001b[39;00m\n\u001b[0;32m   (...)\u001b[0m\n\u001b[1;32m    324\u001b[0m \u001b[39m    (0, 2, 1, 1)\u001b[39;00m\n\u001b[1;32m    325\u001b[0m \u001b[39m    \"\"\"\u001b[39;00m\n\u001b[0;32m--> 326\u001b[0m     y_type, y_true, y_pred \u001b[39m=\u001b[39m _check_targets(y_true, y_pred)\n\u001b[1;32m    327\u001b[0m     \u001b[39mif\u001b[39;00m y_type \u001b[39mnot\u001b[39;00m \u001b[39min\u001b[39;00m (\u001b[39m\"\u001b[39m\u001b[39mbinary\u001b[39m\u001b[39m\"\u001b[39m, \u001b[39m\"\u001b[39m\u001b[39mmulticlass\u001b[39m\u001b[39m\"\u001b[39m):\n\u001b[1;32m    328\u001b[0m         \u001b[39mraise\u001b[39;00m \u001b[39mValueError\u001b[39;00m(\u001b[39m\"\u001b[39m\u001b[39m%s\u001b[39;00m\u001b[39m is not supported\u001b[39m\u001b[39m\"\u001b[39m \u001b[39m%\u001b[39m y_type)\n",
      "File \u001b[0;32m~/.local/lib/python3.10/site-packages/sklearn/metrics/_classification.py:93\u001b[0m, in \u001b[0;36m_check_targets\u001b[0;34m(y_true, y_pred)\u001b[0m\n\u001b[1;32m     90\u001b[0m     y_type \u001b[39m=\u001b[39m {\u001b[39m\"\u001b[39m\u001b[39mmulticlass\u001b[39m\u001b[39m\"\u001b[39m}\n\u001b[1;32m     92\u001b[0m \u001b[39mif\u001b[39;00m \u001b[39mlen\u001b[39m(y_type) \u001b[39m>\u001b[39m \u001b[39m1\u001b[39m:\n\u001b[0;32m---> 93\u001b[0m     \u001b[39mraise\u001b[39;00m \u001b[39mValueError\u001b[39;00m(\n\u001b[1;32m     94\u001b[0m         \u001b[39m\"\u001b[39m\u001b[39mClassification metrics can\u001b[39m\u001b[39m'\u001b[39m\u001b[39mt handle a mix of \u001b[39m\u001b[39m{0}\u001b[39;00m\u001b[39m and \u001b[39m\u001b[39m{1}\u001b[39;00m\u001b[39m targets\u001b[39m\u001b[39m\"\u001b[39m\u001b[39m.\u001b[39mformat(\n\u001b[1;32m     95\u001b[0m             type_true, type_pred\n\u001b[1;32m     96\u001b[0m         )\n\u001b[1;32m     97\u001b[0m     )\n\u001b[1;32m     99\u001b[0m \u001b[39m# We can't have more than one value on y_type => The set is no more needed\u001b[39;00m\n\u001b[1;32m    100\u001b[0m y_type \u001b[39m=\u001b[39m y_type\u001b[39m.\u001b[39mpop()\n",
      "\u001b[0;31mValueError\u001b[0m: Classification metrics can't handle a mix of multilabel-indicator and continuous-multioutput targets"
     ]
    }
   ],
   "source": [
    "metrics(model=model, epoch=3)"
   ]
  }
 ],
 "metadata": {
  "kernelspec": {
   "display_name": "Python 3",
   "language": "python",
   "name": "python3"
  },
  "language_info": {
   "codemirror_mode": {
    "name": "ipython",
    "version": 3
   },
   "file_extension": ".py",
   "mimetype": "text/x-python",
   "name": "python",
   "nbconvert_exporter": "python",
   "pygments_lexer": "ipython3",
   "version": "3.10.12"
  }
 },
 "nbformat": 4,
 "nbformat_minor": 2
}
