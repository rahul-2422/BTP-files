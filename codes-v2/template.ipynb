{
 "cells": [
  {
   "attachments": {},
   "cell_type": "markdown",
   "metadata": {},
   "source": [
    "## Template for plotting signal psd"
   ]
  },
  {
   "cell_type": "code",
   "execution_count": null,
   "metadata": {},
   "outputs": [],
   "source": [
    "# Plotting Power Spectral Density of a channel in the eeg data before artifact removal\n",
    "\n",
    "channel = 34\n",
    "data_single = data_filtered[channel]\n",
    "\n",
    "# Welch method parameters\n",
    "fs = 128\n",
    "window = 'hamming'\n",
    "nperseg = 64\n",
    "\n",
    "# Welch method\n",
    "f, psd = welch(\n",
    "    x= data_single,\n",
    "    fs= fs,\n",
    "    window= window,\n",
    "    nperseg= nperseg,\n",
    ")\n",
    "\n",
    "trace = go.Scatter(\n",
    "    x= f,\n",
    "    y= psd,\n",
    "    mode= 'lines',\n",
    ")\n",
    "\n",
    "data = [trace]\n",
    "\n",
    "layout = go.Layout(\n",
    "    title= 'PSD of channel {}'.format(channels[channel]),\n",
    "    xaxis= dict(\n",
    "        title= 'Frequency'\n",
    "    ),\n",
    "    yaxis=dict(\n",
    "        title= 'PSD'\n",
    "    )\n",
    ")\n",
    "\n",
    "fig = go.Figure(\n",
    "    data= data,\n",
    "    layout= layout,\n",
    ")\n",
    "\n",
    "fig.show()"
   ]
  },
  {
   "attachments": {},
   "cell_type": "markdown",
   "metadata": {},
   "source": [
    "## Template for plotting single channel eeg"
   ]
  },
  {
   "cell_type": "code",
   "execution_count": null,
   "metadata": {},
   "outputs": [],
   "source": [
    "channel = 34\n",
    "trace = go.Scatter(\n",
    "    x=timesF, \n",
    "    y=data_filtered[channel], \n",
    "    mode='lines'\n",
    ")\n",
    "\n",
    "data = [trace]\n",
    "\n",
    "layout = go.Layout(\n",
    "    title=channels[channel],\n",
    "    xaxis= dict(\n",
    "        title= 'Time (s)'\n",
    "    ),\n",
    "    yaxis= dict(\n",
    "        title= 'Amplitude'\n",
    "    )\n",
    ")\n",
    "\n",
    "fig = go.Figure(\n",
    "    data=data, \n",
    "    layout=layout\n",
    ")\n",
    "\n",
    "fig.show()"
   ]
  },
  {
   "cell_type": "code",
   "execution_count": null,
   "metadata": {},
   "outputs": [],
   "source": [
    "import mne\n",
    "\n",
    "# Assume the EEG data is loaded into a RawObject named raw\n",
    "\n",
    "# Extract the data channel containing the EEG values\n",
    "data = raw.get_data()\n",
    "\n",
    "# The data shape will be (number_of_channels, number_of_time_points)\n",
    "print(data.shape) # e.g. (64, 1000000)\n",
    "\n",
    "# Compute the power spectral density (PSD) using the Welch method  \n",
    "# with 1 second windows         \n",
    "f, psd = mne.time_frequency.psd_welch(data, sfreq=raw.info['sfreq'], \n",
    "                                   n_per_seg = raw.info['sfreq'])  \n",
    "\n",
    "# The PSD shape will be (number_of_frequencies, number_of_time_points)\n",
    "print(psd.shape) # e.g. (2000, 50000)\n",
    "\n",
    "# Integrate the PSD over the given frequency bands  \n",
    "theta = np.sum(psd[:,f<8], axis=0)  \n",
    "alpha = np.sum(psd[:,8<=f<12], axis=0)\n",
    "low_beta = np.sum(psd[:,12<=f<16], axis=0)\n",
    "high_beta = np.sum(psd[:,16<=f<30], axis=0)  \n",
    "gamma = np.sum(psd[:,30<=f<44], axis=0)\n",
    "\n",
    "# The band energies will have shape (number_of_time_points,)\n",
    "print(theta.shape) # e.g. (50000,)\n",
    "\n",
    "# Extract the band energies every 0.2 seconds    \n",
    "features = np.vstack((theta[::5], \n",
    "                      alpha[::5], \n",
    "                      low_beta[::5],  \n",
    "                      high_beta[::5], \n",
    "                      gamma[::5]))\n",
    "\n",
    "# The final feature shape will be  \n",
    "# (number_of_time_points, 5 frequency bands)           \n",
    "print(features.shape) # e.g. (10000, 5)"
   ]
  },
  {
   "cell_type": "code",
   "execution_count": 8,
   "metadata": {},
   "outputs": [
    {
     "data": {
      "text/plain": [
       "array([ 1.,  2., nan,  4., nan,  5.])"
      ]
     },
     "metadata": {},
     "output_type": "display_data"
    },
    {
     "name": "stdout",
     "output_type": "stream",
     "text": [
      "[1. 2. 3. 4. 3. 5.]\n",
      "[1.0, 2.0, 4.0, 5.0]\n"
     ]
    }
   ],
   "source": [
    "import copy\n",
    "import numpy as np\n",
    "import math\n",
    "\n",
    "Psd = [1, 2, math.nan, 4, math.nan, 5]\n",
    "\n",
    "Psd = np.array(Psd)\n",
    "\n",
    "psd_nonan = copy.copy(Psd)\n",
    "\n",
    "psd_nonan = [x for x in psd_nonan if not np.isnan(x)]\n",
    "\n",
    "display(Psd)\n",
    "\n",
    "if np.any(np.isnan(Psd)):\n",
    "    nonnan_values = Psd[~np.isnan(Psd)]\n",
    "    nan_average = np.mean(nonnan_values) \n",
    "    Psd[np.isnan(Psd)] = nan_average\n",
    "\n",
    "print(Psd) \n",
    "# [1, 2, nan, 4, nan, 5]\n",
    "\n",
    "print(psd_nonan)\n",
    "# [1, 2, 4, 5]"
   ]
  }
 ],
 "metadata": {
  "kernelspec": {
   "display_name": "Python 3",
   "language": "python",
   "name": "python3"
  },
  "language_info": {
   "codemirror_mode": {
    "name": "ipython",
    "version": 3
   },
   "file_extension": ".py",
   "mimetype": "text/x-python",
   "name": "python",
   "nbconvert_exporter": "python",
   "pygments_lexer": "ipython3",
   "version": "3.10.6"
  },
  "orig_nbformat": 4
 },
 "nbformat": 4,
 "nbformat_minor": 2
}
